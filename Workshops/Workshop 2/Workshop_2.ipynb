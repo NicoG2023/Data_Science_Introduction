{
 "cells": [
  {
   "cell_type": "markdown",
   "metadata": {},
   "source": [
    "# WorkShop 2\n",
    "\n",
    "Let's play with pandas and answer \"stakeholders\" _questions_.\n",
    "\n",
    "Problems $2-13$ rely on your `Problem 1` answer."
   ]
  },
  {
   "cell_type": "markdown",
   "metadata": {},
   "source": [
    "## Problem  1\n",
    "\n",
    "Load the energy data from the file `assets/Energy Indicators.xls`, which is a list of indicators of [energy supply and renewable electricity production](assets/Energy%20Indicators.xls) from the [United Nations](http://unstats.un.org/unsd/environment/excel_file_tables/2013/Energy%20Indicators.xls) for the year 2013, and should be put into a DataFrame with the variable name of __energy_df__.\n",
    "\n",
    "Keep in mind that this is an _Excel file_, and not a _comma separated values file_. Also, make sure to _exclude_ the footer and header information from the datafile. The first _two columns_ are unneccessary, so you should get rid of them, and you should change the column labels so that the columns are:\n",
    "\n",
    "```python\n",
    "['Country', 'Energy Supply', 'Energy Supply per Capita', '% Renewable]\n",
    "```\n",
    "\n",
    "Convert `Energy Supply` to _gigajoules_ (there are $1000000$ _gigajoules_ in a _petajoule_**). For all countries which have missing data (_e.g._ data with \"...\") make sure this is reflected as `np.NaN` values.\n",
    "\n",
    "Rename the following list of countries (_for use in later questions_):\n",
    "\n",
    "```bash\n",
    "\"Republic of Korea\": \"South Korea\",\n",
    "\"United States of America\": \"United States\",\n",
    "\"United Kingdom of Great Britain and Northern Ireland\": \"United Kingdom\",\n",
    "\"China, Hong Kong Special Administrative Region\": \"Hong Kong\"\n",
    "```\n",
    "\n",
    "There are also several countries with parenthesis in their name. Be sure to _remove these_, e.g. `'Bolivia (Plurinational State of)'` should be `'Bolivia'`. Additionally, there are several countries with _Numeric digits_ in their name. Make sure to remove these as well, e.g. `'Italy9'` should be `'Italy'`. \n",
    "\n",
    "Next, load the GDP data from the file `assets/world_bank.csv`, which is a _csv_ containing countries' GDP from $1960$ to $2015$ from [World Bank](http://data.worldbank.org/indicator/NY.GDP.MKTP.CD). Call this DataFrame __gdp_df__. \n",
    "\n",
    "Make sure to _skip the header_, and _rename_ the following list of countries:\n",
    "\n",
    "```bash\n",
    "\"Korea, Rep.\": \"South Korea\", \n",
    "\"Iran, Islamic Rep.\": \"Iran\",\n",
    "\"Hong Kong SAR, China\": \"Hong Kong\"\n",
    "```\n",
    "\n",
    "Finally, load the [Scimago Journal and Country Rank data for Energy Engineering and Power Technology](http://www.scimagojr.com/countryrank.php?category=2102) from the file `assets/scimagojr-3.xlsx`, which ranks countries based on their _journal contributions_ in the aforementioned area. Call this DataFrame __scimago_df__.\n",
    "\n",
    "Join the _thrgoee datasets_: _energy\\_df_, _gdp\\_df_ and _scimago\\_df_, into a new dataset (using the _intersection_ of _country names_). Use only the _last_ $10$ years ($2006-2015$) of __GDP data__ and only the _top 15 countries_ by __Scimagojr 'Rank'__ (_Rank 1 through 15_). \n",
    "\n",
    "The _index_ of this DataFrame should be the __name__ of the country, and the _columns_ should be:\n",
    "`['Rank', 'Documents', 'Citable documents', 'Citations', 'Self-citations', 'Citations per document', 'H index', 'Energy Supply', 'Energy Supply per Capita', '% Renewable', '2006', '2007', '2008','2009', '2010', '2011', '2012', '2013', '2014', '2015']`.\n",
    "\n",
    "_This function should return a DataFrame with 20 columns and 15 entries, and the rows of the DataFrame should be sorted by \"Rank\"._"
   ]
  },
  {
   "cell_type": "code",
   "execution_count": 48,
   "metadata": {},
   "outputs": [
    {
     "data": {
      "text/html": [
       "<div>\n",
       "<style scoped>\n",
       "    .dataframe tbody tr th:only-of-type {\n",
       "        vertical-align: middle;\n",
       "    }\n",
       "\n",
       "    .dataframe tbody tr th {\n",
       "        vertical-align: top;\n",
       "    }\n",
       "\n",
       "    .dataframe thead th {\n",
       "        text-align: right;\n",
       "    }\n",
       "</style>\n",
       "<table border=\"1\" class=\"dataframe\">\n",
       "  <thead>\n",
       "    <tr style=\"text-align: right;\">\n",
       "      <th>3</th>\n",
       "      <th>Country</th>\n",
       "      <th>2006.0</th>\n",
       "      <th>2007.0</th>\n",
       "      <th>2008.0</th>\n",
       "      <th>2009.0</th>\n",
       "      <th>2010.0</th>\n",
       "      <th>2011.0</th>\n",
       "      <th>2012.0</th>\n",
       "      <th>2013.0</th>\n",
       "      <th>2014.0</th>\n",
       "      <th>2015.0</th>\n",
       "    </tr>\n",
       "  </thead>\n",
       "  <tbody>\n",
       "    <tr>\n",
       "      <th>4</th>\n",
       "      <td>Aruba</td>\n",
       "      <td>NaN</td>\n",
       "      <td>NaN</td>\n",
       "      <td>NaN</td>\n",
       "      <td>NaN</td>\n",
       "      <td>2.467704e+09</td>\n",
       "      <td>NaN</td>\n",
       "      <td>NaN</td>\n",
       "      <td>NaN</td>\n",
       "      <td>NaN</td>\n",
       "      <td>NaN</td>\n",
       "    </tr>\n",
       "    <tr>\n",
       "      <th>5</th>\n",
       "      <td>Andorra</td>\n",
       "      <td>4.018196e+09</td>\n",
       "      <td>4.021331e+09</td>\n",
       "      <td>3.675728e+09</td>\n",
       "      <td>3.535389e+09</td>\n",
       "      <td>3.346317e+09</td>\n",
       "      <td>3.185605e+09</td>\n",
       "      <td>3.129538e+09</td>\n",
       "      <td>3.127550e+09</td>\n",
       "      <td>NaN</td>\n",
       "      <td>NaN</td>\n",
       "    </tr>\n",
       "    <tr>\n",
       "      <th>6</th>\n",
       "      <td>Afghanistan</td>\n",
       "      <td>1.030523e+10</td>\n",
       "      <td>1.172119e+10</td>\n",
       "      <td>1.214448e+10</td>\n",
       "      <td>1.469733e+10</td>\n",
       "      <td>1.593680e+10</td>\n",
       "      <td>1.691113e+10</td>\n",
       "      <td>1.935220e+10</td>\n",
       "      <td>1.973134e+10</td>\n",
       "      <td>1.999032e+10</td>\n",
       "      <td>2.029415e+10</td>\n",
       "    </tr>\n",
       "    <tr>\n",
       "      <th>7</th>\n",
       "      <td>Angola</td>\n",
       "      <td>5.581103e+10</td>\n",
       "      <td>6.842044e+10</td>\n",
       "      <td>7.787420e+10</td>\n",
       "      <td>7.975320e+10</td>\n",
       "      <td>8.247091e+10</td>\n",
       "      <td>8.570262e+10</td>\n",
       "      <td>9.012096e+10</td>\n",
       "      <td>9.626143e+10</td>\n",
       "      <td>1.008863e+11</td>\n",
       "      <td>1.039106e+11</td>\n",
       "    </tr>\n",
       "    <tr>\n",
       "      <th>8</th>\n",
       "      <td>Albania</td>\n",
       "      <td>9.771760e+09</td>\n",
       "      <td>1.034829e+10</td>\n",
       "      <td>1.112752e+10</td>\n",
       "      <td>1.150029e+10</td>\n",
       "      <td>1.192695e+10</td>\n",
       "      <td>1.223109e+10</td>\n",
       "      <td>1.240477e+10</td>\n",
       "      <td>1.254247e+10</td>\n",
       "      <td>1.279331e+10</td>\n",
       "      <td>1.312082e+10</td>\n",
       "    </tr>\n",
       "    <tr>\n",
       "      <th>...</th>\n",
       "      <td>...</td>\n",
       "      <td>...</td>\n",
       "      <td>...</td>\n",
       "      <td>...</td>\n",
       "      <td>...</td>\n",
       "      <td>...</td>\n",
       "      <td>...</td>\n",
       "      <td>...</td>\n",
       "      <td>...</td>\n",
       "      <td>...</td>\n",
       "      <td>...</td>\n",
       "    </tr>\n",
       "    <tr>\n",
       "      <th>263</th>\n",
       "      <td>Yemen, Rep.</td>\n",
       "      <td>2.672565e+10</td>\n",
       "      <td>2.761787e+10</td>\n",
       "      <td>2.872656e+10</td>\n",
       "      <td>2.991436e+10</td>\n",
       "      <td>3.090675e+10</td>\n",
       "      <td>2.624342e+10</td>\n",
       "      <td>2.689160e+10</td>\n",
       "      <td>2.800914e+10</td>\n",
       "      <td>NaN</td>\n",
       "      <td>NaN</td>\n",
       "    </tr>\n",
       "    <tr>\n",
       "      <th>264</th>\n",
       "      <td>South Africa</td>\n",
       "      <td>3.402852e+11</td>\n",
       "      <td>3.585261e+11</td>\n",
       "      <td>3.699668e+11</td>\n",
       "      <td>3.642764e+11</td>\n",
       "      <td>3.753494e+11</td>\n",
       "      <td>3.874074e+11</td>\n",
       "      <td>3.960071e+11</td>\n",
       "      <td>4.047682e+11</td>\n",
       "      <td>4.110369e+11</td>\n",
       "      <td>4.163117e+11</td>\n",
       "    </tr>\n",
       "    <tr>\n",
       "      <th>265</th>\n",
       "      <td>Congo, Dem. Rep.</td>\n",
       "      <td>1.650894e+10</td>\n",
       "      <td>1.754232e+10</td>\n",
       "      <td>1.863448e+10</td>\n",
       "      <td>1.916651e+10</td>\n",
       "      <td>2.052329e+10</td>\n",
       "      <td>2.193213e+10</td>\n",
       "      <td>2.350200e+10</td>\n",
       "      <td>2.550050e+10</td>\n",
       "      <td>2.778776e+10</td>\n",
       "      <td>2.970961e+10</td>\n",
       "    </tr>\n",
       "    <tr>\n",
       "      <th>266</th>\n",
       "      <td>Zambia</td>\n",
       "      <td>1.440569e+10</td>\n",
       "      <td>1.560892e+10</td>\n",
       "      <td>1.682234e+10</td>\n",
       "      <td>1.837342e+10</td>\n",
       "      <td>2.026555e+10</td>\n",
       "      <td>2.140358e+10</td>\n",
       "      <td>2.302438e+10</td>\n",
       "      <td>2.420595e+10</td>\n",
       "      <td>2.542227e+10</td>\n",
       "      <td>2.624127e+10</td>\n",
       "    </tr>\n",
       "    <tr>\n",
       "      <th>267</th>\n",
       "      <td>Zimbabwe</td>\n",
       "      <td>1.006276e+10</td>\n",
       "      <td>9.695130e+09</td>\n",
       "      <td>7.982103e+09</td>\n",
       "      <td>8.459783e+09</td>\n",
       "      <td>9.422161e+09</td>\n",
       "      <td>1.054391e+10</td>\n",
       "      <td>1.165789e+10</td>\n",
       "      <td>1.218064e+10</td>\n",
       "      <td>1.264939e+10</td>\n",
       "      <td>1.278517e+10</td>\n",
       "    </tr>\n",
       "  </tbody>\n",
       "</table>\n",
       "<p>264 rows × 11 columns</p>\n",
       "</div>"
      ],
      "text/plain": [
       "3             Country        2006.0        2007.0        2008.0        2009.0  \\\n",
       "4               Aruba           NaN           NaN           NaN           NaN   \n",
       "5             Andorra  4.018196e+09  4.021331e+09  3.675728e+09  3.535389e+09   \n",
       "6         Afghanistan  1.030523e+10  1.172119e+10  1.214448e+10  1.469733e+10   \n",
       "7              Angola  5.581103e+10  6.842044e+10  7.787420e+10  7.975320e+10   \n",
       "8             Albania  9.771760e+09  1.034829e+10  1.112752e+10  1.150029e+10   \n",
       "..                ...           ...           ...           ...           ...   \n",
       "263       Yemen, Rep.  2.672565e+10  2.761787e+10  2.872656e+10  2.991436e+10   \n",
       "264      South Africa  3.402852e+11  3.585261e+11  3.699668e+11  3.642764e+11   \n",
       "265  Congo, Dem. Rep.  1.650894e+10  1.754232e+10  1.863448e+10  1.916651e+10   \n",
       "266            Zambia  1.440569e+10  1.560892e+10  1.682234e+10  1.837342e+10   \n",
       "267          Zimbabwe  1.006276e+10  9.695130e+09  7.982103e+09  8.459783e+09   \n",
       "\n",
       "3          2010.0        2011.0        2012.0        2013.0        2014.0  \\\n",
       "4    2.467704e+09           NaN           NaN           NaN           NaN   \n",
       "5    3.346317e+09  3.185605e+09  3.129538e+09  3.127550e+09           NaN   \n",
       "6    1.593680e+10  1.691113e+10  1.935220e+10  1.973134e+10  1.999032e+10   \n",
       "7    8.247091e+10  8.570262e+10  9.012096e+10  9.626143e+10  1.008863e+11   \n",
       "8    1.192695e+10  1.223109e+10  1.240477e+10  1.254247e+10  1.279331e+10   \n",
       "..            ...           ...           ...           ...           ...   \n",
       "263  3.090675e+10  2.624342e+10  2.689160e+10  2.800914e+10           NaN   \n",
       "264  3.753494e+11  3.874074e+11  3.960071e+11  4.047682e+11  4.110369e+11   \n",
       "265  2.052329e+10  2.193213e+10  2.350200e+10  2.550050e+10  2.778776e+10   \n",
       "266  2.026555e+10  2.140358e+10  2.302438e+10  2.420595e+10  2.542227e+10   \n",
       "267  9.422161e+09  1.054391e+10  1.165789e+10  1.218064e+10  1.264939e+10   \n",
       "\n",
       "3          2015.0  \n",
       "4             NaN  \n",
       "5             NaN  \n",
       "6    2.029415e+10  \n",
       "7    1.039106e+11  \n",
       "8    1.312082e+10  \n",
       "..            ...  \n",
       "263           NaN  \n",
       "264  4.163117e+11  \n",
       "265  2.970961e+10  \n",
       "266  2.624127e+10  \n",
       "267  1.278517e+10  \n",
       "\n",
       "[264 rows x 11 columns]"
      ]
     },
     "execution_count": 48,
     "metadata": {},
     "output_type": "execute_result"
    }
   ],
   "source": [
    "import pandas as pd\n",
    "import numpy as np\n",
    "\n",
    "def generate_energy_df() -> pd.DataFrame:\n",
    "    \"\"\"\n",
    "    Loads and processes the energy data.\n",
    "\n",
    "    The function performs the following operations:\n",
    "    1. Loads the energy data from the Excel file 'Energy Indicators.xls'.\n",
    "    2. Converts the 'Energy Supply' from petajoules to gigajoules.\n",
    "    3. Removes parentheses and numeric digits from country names.\n",
    "    4. Renames specific country names for consistency.\n",
    "\n",
    "    Returns:\n",
    "        pandas.DataFrame: A dataframe containing the processed energy data.\n",
    "    \"\"\"\n",
    "    # YOUR CODE HERE load dataframe and remove header and footer\n",
    "    energy_df = pd.read_excel('assets/Energy Indicators.xls', names=['Country', 'Energy Supply', 'Energy Supply per Capita', '% Renewable'], na_values=[\"...\"])\n",
    "    energy_df = energy_df.iloc[17:244]\n",
    "    # YOUR CODE HERE transform data\n",
    "    energy_df['Energy Supply'] *= 1000000\n",
    "\n",
    "    # YOUR CODE HERE transform Country column\n",
    "    # Remove parentheses and numeric digits from country names\n",
    "    energy_df['Country'] = energy_df['Country'].str.replace(r'\\(.*\\)', '', regex=True).str.replace(r'\\d+', '', regex=True).str.strip()\n",
    "\n",
    "    # Rename the countries\n",
    "    energy_country_renames = {\n",
    "        \"United States of America\": \"United States\",\n",
    "        \"United Kingdom of Great Britain and Northern Ireland\": \"United Kingdom\",\n",
    "        \"Republic of Korea\": \"South Korea\",\n",
    "        \"Iran (Islamic Republic of)\": \"Iran\",\n",
    "        \"Hong Kong Special Administrative Region of China\": \"Hong Kong\"\n",
    "    }\n",
    "    energy_df['Country'] = energy_df['Country'].replace(energy_country_renames)\n",
    "\n",
    "\n",
    "    return energy_df\n",
    "\n",
    "def get_GDP_df() -> pd.DataFrame:\n",
    "    \"\"\"\n",
    "    Loads and processes the GDP data.\n",
    "\n",
    "    The function performs the following operations:\n",
    "    1. Loads the GDP data from the CSV file 'world_bank.csv'.\n",
    "    2. Renames specific country names for consistency.\n",
    "    3. Filters the data to include only the columns for the years 2006-2015.\n",
    "    4. Renames the 'Country Name' column to 'Country'.\n",
    "\n",
    "    Returns:\n",
    "        pandas.DataFrame: A dataframe containing the processed GDP data.\n",
    "    \"\"\"\n",
    "    def is_number(s: str) -> bool:\n",
    "        \"\"\"\n",
    "        Check if a string is a number.\n",
    "\n",
    "        Args:\n",
    "            s (str): The string to check.\n",
    "\n",
    "        Returns:\n",
    "            A boolean indicating if the string is a number.\n",
    "        \"\"\"\n",
    "        try:\n",
    "            int(s)  \n",
    "            return True\n",
    "        except ValueError:\n",
    "            return False\n",
    "    # YOUR CODE HERE load data, remove header, adjust column names\n",
    "    gdp_df = pd.read_csv('assets/world_bank.csv')\n",
    "    gdp_df.columns = gdp_df.iloc[3]\n",
    "    gdp_df = gdp_df.iloc[4:]\n",
    "    country_renames_gdp = {\n",
    "        \"Korea, Rep.\": \"South Korea\",\n",
    "        \"Iran, Islamic Rep.\": \"Iran\",\n",
    "        \"Hong Kong SAR, China\": \"Hong Kong\"\n",
    "    }\n",
    "    gdp_df['Country Name'] = gdp_df['Country Name'].replace(country_renames_gdp)\n",
    "\n",
    "    # YOUR CODE HERE transform Country column\n",
    "    gdp_df = gdp_df[['Country Name', 2006, 2007, 2008, 2009, 2010, 2011, 2012, 2013, 2014, 2015]]\n",
    "    gdp_df.rename(columns={'Country Name': 'Country'}, inplace=True)\n",
    "    \n",
    "    return gdp_df\n",
    "\n",
    "def get_scimago_df() -> pd.DataFrame:\n",
    "    \"\"\"\n",
    "    Loads the Scimago data from the Excel file 'scimagojr-3.xlsx'.\n",
    "\n",
    "    Returns:\n",
    "        pandas.DataFrame: A dataframe containing the Scimago data.\n",
    "    \"\"\"\n",
    "    # YOUR CODE HERE load data\n",
    "    scimago_df = pd.read_excel('assets/scimagojr-3.xlsx', engine='openpyxl')\n",
    "    \n",
    "    return scimago_df\n",
    "\n",
    "def answer_one() -> pd.DataFrame:\n",
    "    \"\"\"\n",
    "    Merges the energy, GDP, and Scimago data into a single dataframe.\n",
    "\n",
    "    Returns:\n",
    "        pandas.DataFrame: A dataframe containing the merged data, indexed by country and sorted by rank.\n",
    "    \"\"\"\n",
    "    # YOUR CODE HERE\n",
    "    energy_df = generate_energy_df()\n",
    "    gdp_df = get_GDP_df()\n",
    "    scimago_df = get_scimago_df()\n",
    "\n",
    "    # Filter the Scimago data to include only the top 15 countries by rank\n",
    "    scimago_top15 = scimago_df[scimago_df['Rank'] <= 15]\n",
    "\n",
    "    # Merge the dataframes\n",
    "    merged_df = pd.merge(scimago_top15, energy_df, on='Country', how='inner')\n",
    "    merged_df = pd.merge(merged_df, gdp_df, on='Country', how='inner')\n",
    "    \n",
    "    # Set the index to Country and sort by Rank\n",
    "    merged_df.set_index('Country', inplace=True)\n",
    "    merged_df.sort_values(by='Rank', inplace=True)\n",
    "    \n",
    "    return merged_df\n",
    "\n",
    "get_GDP_df()\n"
   ]
  },
  {
   "cell_type": "code",
   "execution_count": 49,
   "metadata": {},
   "outputs": [],
   "source": [
    "# example of test cases\n",
    "assert type(answer_one()) == pd.DataFrame, \"Q1: You should return a DataFrame!\"\n",
    "assert answer_one().shape == (15,20), \"Q1: Your DataFrame should have 20 columns and 15 entries!\""
   ]
  },
  {
   "cell_type": "code",
   "execution_count": null,
   "metadata": {},
   "outputs": [],
   "source": [
    "# space for proffesor tests"
   ]
  },
  {
   "cell_type": "markdown",
   "metadata": {},
   "source": [
    "## Problem 2\n",
    "\n",
    "The _Problem 1_ joined three datasets then reduced this to just the top $15$ entries. When you joined the datasets, but before you reduced this to the top $15$ items, how many entries did you lose?\n",
    "\n",
    "_This function should return a single number._"
   ]
  },
  {
   "cell_type": "code",
   "execution_count": null,
   "metadata": {},
   "outputs": [
    {
     "data": {
      "text/html": [
       "<svg width=\"800\" height=\"300\">\n",
       "  <circle cx=\"150\" cy=\"180\" r=\"80\" fill-opacity=\"0.2\" stroke=\"black\" stroke-width=\"2\" fill=\"blue\" />\n",
       "  <circle cx=\"200\" cy=\"100\" r=\"80\" fill-opacity=\"0.2\" stroke=\"black\" stroke-width=\"2\" fill=\"red\" />\n",
       "  <circle cx=\"100\" cy=\"100\" r=\"80\" fill-opacity=\"0.2\" stroke=\"black\" stroke-width=\"2\" fill=\"green\" />\n",
       "  <line x1=\"150\" y1=\"125\" x2=\"300\" y2=\"150\" stroke=\"black\" stroke-width=\"2\" fill=\"black\" stroke-dasharray=\"5,3\"/>\n",
       "  <text x=\"300\" y=\"165\" font-family=\"Verdana\" font-size=\"35\">Everything but this!</text>\n",
       "</svg>\n"
      ],
      "text/plain": [
       "<IPython.core.display.HTML object>"
      ]
     },
     "metadata": {},
     "output_type": "display_data"
    }
   ],
   "source": [
    "%%HTML\n",
    "<svg width=\"800\" height=\"300\">\n",
    "  <circle cx=\"150\" cy=\"180\" r=\"80\" fill-opacity=\"0.2\" stroke=\"black\" stroke-width=\"2\" fill=\"blue\" />\n",
    "  <circle cx=\"200\" cy=\"100\" r=\"80\" fill-opacity=\"0.2\" stroke=\"black\" stroke-width=\"2\" fill=\"red\" />\n",
    "  <circle cx=\"100\" cy=\"100\" r=\"80\" fill-opacity=\"0.2\" stroke=\"black\" stroke-width=\"2\" fill=\"green\" />\n",
    "  <line x1=\"150\" y1=\"125\" x2=\"300\" y2=\"150\" stroke=\"black\" stroke-width=\"2\" fill=\"black\" stroke-dasharray=\"5,3\"/>\n",
    "  <text x=\"300\" y=\"165\" font-family=\"Verdana\" font-size=\"35\">Everything but this!</text>\n",
    "</svg>"
   ]
  },
  {
   "cell_type": "code",
   "execution_count": 54,
   "metadata": {},
   "outputs": [
    {
     "name": "stdout",
     "output_type": "stream",
     "text": [
      "Countries before: 320\n",
      "Countries after: 160\n",
      "160\n"
     ]
    }
   ],
   "source": [
    "def answer_two():\n",
    "    \"\"\"\n",
    "    Determines the number of entries lost during the merge process of the datasets.\n",
    "\n",
    "    Returns:\n",
    "        int: The number of entries lost during the merge process.\n",
    "    \"\"\"\n",
    "    #YOUR CODE HERE\n",
    "    energy_df = generate_energy_df()\n",
    "    gdp_df = get_GDP_df()\n",
    "    scimago_df = get_scimago_df()\n",
    "    \n",
    "    energy_countries = set(energy_df['Country'])\n",
    "    gdp_countries = set(gdp_df['Country'])\n",
    "    scimago_countries = set(scimago_df['Country'])\n",
    "    \n",
    "    # Total unique countries before merging\n",
    "    total_unique_countries_before = len(energy_countries | gdp_countries | scimago_countries)\n",
    "    print('Countries before:',total_unique_countries_before)\n",
    "    \n",
    "    merged_df = pd.merge(scimago_df, energy_df, on='Country', how='inner')\n",
    "    merged_df = pd.merge(merged_df, gdp_df, on='Country', how='inner')\n",
    "    \n",
    "    # Unique countries after merging\n",
    "    total_unique_countries_after = merged_df['Country'].nunique()\n",
    "    print('Countries after:', total_unique_countries_after)\n",
    "    \n",
    "    # Entries lost\n",
    "    entries_lost = total_unique_countries_before - total_unique_countries_after\n",
    "    \n",
    "    return entries_lost\n",
    "\n",
    "print(answer_two())"
   ]
  },
  {
   "cell_type": "code",
   "execution_count": 55,
   "metadata": {},
   "outputs": [
    {
     "name": "stdout",
     "output_type": "stream",
     "text": [
      "Countries before: 320\n",
      "Countries after: 160\n"
     ]
    }
   ],
   "source": [
    "# example of test cases\n",
    "assert type(answer_two()) == int, \"Q2: You should return an int number!\""
   ]
  },
  {
   "cell_type": "code",
   "execution_count": null,
   "metadata": {},
   "outputs": [],
   "source": [
    "# space for proffesor tests"
   ]
  },
  {
   "cell_type": "markdown",
   "metadata": {},
   "source": [
    "## Problem 3\n",
    "\n",
    "What are the top $15$ countries for average GDP over the last $10$ years?\n",
    "\n",
    "_This function should return a Series named `avg_gdp` with $15$ countries and their average GDP sorted in descending order._"
   ]
  },
  {
   "cell_type": "code",
   "execution_count": 69,
   "metadata": {},
   "outputs": [
    {
     "data": {
      "text/plain": [
       "Country\n",
       "United States         1.536434e+13\n",
       "China                 6.348609e+12\n",
       "Japan                 5.542208e+12\n",
       "Germany               3.493025e+12\n",
       "France                2.681725e+12\n",
       "United Kingdom        2.487907e+12\n",
       "Brazil                2.189794e+12\n",
       "Italy                 2.120175e+12\n",
       "India                 1.769297e+12\n",
       "Canada                1.660647e+12\n",
       "Russian Federation    1.565459e+12\n",
       "Spain                 1.418078e+12\n",
       "Australia             1.164043e+12\n",
       "South Korea           1.106715e+12\n",
       "Iran                  4.441558e+11\n",
       "dtype: float64"
      ]
     },
     "execution_count": 69,
     "metadata": {},
     "output_type": "execute_result"
    }
   ],
   "source": [
    "def answer_three() -> pd.Series:\n",
    "    \"\"\"\n",
    "    Finds the top 15 countries for average GDP over the last 10 years.\n",
    "\n",
    "    Returns:\n",
    "        pd.Series: A Series named `avg_gdp` with 15 countries and their average GDP sorted in descending order.\n",
    "    \"\"\"\n",
    "    # YOUR CODE HERE\n",
    "    df = answer_one()\n",
    "    avg_gdp_df = df.loc[:, 2006:2015].apply(lambda x: x.mean(), axis=1).sort_values(ascending=False)\n",
    "    \n",
    "    return avg_gdp_df\n",
    "\n",
    "answer_three()"
   ]
  },
  {
   "cell_type": "code",
   "execution_count": 70,
   "metadata": {},
   "outputs": [],
   "source": [
    "# example of test cases\n",
    "assert type(answer_three()) == pd.Series, \"Q3: You should return a Series!\""
   ]
  },
  {
   "cell_type": "code",
   "execution_count": null,
   "metadata": {},
   "outputs": [],
   "source": [
    "# space for proffesor tests"
   ]
  },
  {
   "cell_type": "markdown",
   "metadata": {},
   "source": [
    "# Problem 4\n",
    "\n",
    "By how much had the GDP changed over the $10$ year span for the country with the $6-th$ largest average GDP?\n",
    "\n",
    "_This function should return a single number._"
   ]
  },
  {
   "cell_type": "code",
   "execution_count": 91,
   "metadata": {},
   "outputs": [
    {
     "data": {
      "text/plain": [
       "246702696075.3999"
      ]
     },
     "execution_count": 91,
     "metadata": {},
     "output_type": "execute_result"
    }
   ],
   "source": [
    "def answer_four() -> float:\n",
    "    \"\"\"\n",
    "    Calculates the change in GDP over the 10-year span for the country with the 6th largest average GDP.\n",
    "\n",
    "    Returns:\n",
    "        float: The change in GDP over the 10-year span.\n",
    "    \"\"\"\n",
    "    avg_gdp = answer_three()\n",
    "    sixth_country = avg_gdp.index[5] #The 6-th largest average GDP\n",
    "    \n",
    "    df = answer_one()\n",
    "    gdp_change = df.loc[sixth_country, 2015] - df.loc[sixth_country, 2006]\n",
    "    \n",
    "    return float(gdp_change)\n",
    "\n",
    "answer_four()"
   ]
  },
  {
   "cell_type": "code",
   "execution_count": 92,
   "metadata": {},
   "outputs": [],
   "source": [
    "# example of test cases\n",
    "assert type(answer_four()) == float, \"Q4: You should return a single number!\""
   ]
  },
  {
   "cell_type": "code",
   "execution_count": null,
   "metadata": {},
   "outputs": [],
   "source": [
    "# space for proffesor tests\n"
   ]
  },
  {
   "cell_type": "markdown",
   "metadata": {},
   "source": [
    "## Problem 5\n",
    "\n",
    "What is the _mean energy supply per capita_?\n",
    "\n",
    "_This function should return a single number._"
   ]
  },
  {
   "cell_type": "code",
   "execution_count": 93,
   "metadata": {},
   "outputs": [
    {
     "data": {
      "text/plain": [
       "157.6"
      ]
     },
     "execution_count": 93,
     "metadata": {},
     "output_type": "execute_result"
    }
   ],
   "source": [
    "def answer_five() -> int:\n",
    "    \"\"\"\n",
    "    Calculates the mean energy supply per capita.\n",
    "\n",
    "    Returns:\n",
    "        float: The mean energy supply per capita.\n",
    "    \"\"\"\n",
    "    # YOUR CODE HERE\n",
    "    \n",
    "    df = answer_one()\n",
    "    mean_energy_supply_per_capita = df['Energy Supply per Capita'].mean()\n",
    "    \n",
    "    return float(mean_energy_supply_per_capita)\n",
    "answer_five()"
   ]
  },
  {
   "cell_type": "code",
   "execution_count": 94,
   "metadata": {},
   "outputs": [],
   "source": [
    "# example of test cases\n",
    "assert type(answer_five()) == float, \"Q5: You should return a single number!\""
   ]
  },
  {
   "cell_type": "code",
   "execution_count": null,
   "metadata": {},
   "outputs": [],
   "source": [
    "# space for proffesor tests"
   ]
  },
  {
   "cell_type": "markdown",
   "metadata": {},
   "source": [
    "## Problem 6\n",
    "\n",
    "What __country__ has the _maximum % Renewable_ and what is the _percentage_?\n",
    "\n",
    "_This function should return a tuple with the name of the country and the percentage._"
   ]
  },
  {
   "cell_type": "code",
   "execution_count": 95,
   "metadata": {},
   "outputs": [
    {
     "data": {
      "text/plain": [
       "('Brazil', 69.64803)"
      ]
     },
     "execution_count": 95,
     "metadata": {},
     "output_type": "execute_result"
    }
   ],
   "source": [
    "def answer_six() -> tuple:\n",
    "    \"\"\"\n",
    "    Finds the country with the maximum % Renewable and its percentage.\n",
    "\n",
    "    Returns:\n",
    "        tuple: A tuple with the name of the country and the percentage.\n",
    "    \"\"\"\n",
    "    # YOUR CODE HERE\n",
    "    df = answer_one()\n",
    "    max_renewable_country = df['% Renewable'].idxmax()\n",
    "    max_renewable_percentage = df['% Renewable'].max()\n",
    "    \n",
    "    return (max_renewable_country, max_renewable_percentage)\n",
    "answer_six()"
   ]
  },
  {
   "cell_type": "code",
   "execution_count": 96,
   "metadata": {},
   "outputs": [],
   "source": [
    "# example of test cases\n",
    "assert type(answer_six()) == tuple, \"Q6: You should return a tuple!\"\n",
    "assert type(answer_six()[0]) == str, \"Q6: The first element in your result should be the name of the country!\""
   ]
  },
  {
   "cell_type": "code",
   "execution_count": null,
   "metadata": {},
   "outputs": [],
   "source": [
    "# space for proffesor tests"
   ]
  },
  {
   "cell_type": "markdown",
   "metadata": {},
   "source": [
    "## Problem 7\n",
    "\n",
    "Create a new column that is the _ratio of Self-Citations to Total Citations_. \n",
    "What is the _maximum_ value for this new column, and what _country_ has the _highest ratio_?\n",
    "\n",
    "_This function should return a tuple with the name of the country and the ratio._"
   ]
  },
  {
   "cell_type": "code",
   "execution_count": 98,
   "metadata": {},
   "outputs": [
    {
     "data": {
      "text/plain": [
       "('China', 0.6893126179389422)"
      ]
     },
     "execution_count": 98,
     "metadata": {},
     "output_type": "execute_result"
    }
   ],
   "source": [
    "def answer_seven() -> tuple:\n",
    "    \"\"\"\n",
    "    Creates a new column for the ratio of Self-Citations to Total Citations,\n",
    "    finds the maximum value for this ratio, and the country with the highest ratio.\n",
    "\n",
    "    Returns:\n",
    "        tuple: A tuple with the name of the country and the ratio.\n",
    "    \"\"\"\n",
    "    # YOUR CODE HERE\n",
    "    df = answer_one()\n",
    "    \n",
    "    df['Self-Citations Ratio'] = df['Self-citations'] / df['Citations']\n",
    "    \n",
    "    # Find the country with the highest ratio\n",
    "    max_ratio_country = df['Self-Citations Ratio'].idxmax()\n",
    "    max_ratio_value = df['Self-Citations Ratio'].max()\n",
    "    \n",
    "    return (max_ratio_country, max_ratio_value)\n",
    "answer_seven()"
   ]
  },
  {
   "cell_type": "code",
   "execution_count": 99,
   "metadata": {},
   "outputs": [],
   "source": [
    "# example of test cases\n",
    "assert type(answer_seven()) == tuple, \"Q7: You should return a tuple!\"\n",
    "assert type(answer_seven()[0]) == str, \"Q7: The first element in your result should be the name of the country!\""
   ]
  },
  {
   "cell_type": "code",
   "execution_count": null,
   "metadata": {},
   "outputs": [],
   "source": [
    "# space for proffesor tests"
   ]
  },
  {
   "cell_type": "markdown",
   "metadata": {},
   "source": [
    "## Problem 8\n",
    "\n",
    "Create a column that estimates the _population using Energy Supply_ and _Energy Supply per capita_. \n",
    "What is the _third_ most populous country according to this estimate?\n",
    "\n",
    "_This function should return the name of the country._"
   ]
  },
  {
   "cell_type": "code",
   "execution_count": 112,
   "metadata": {},
   "outputs": [
    {
     "data": {
      "text/plain": [
       "'United States'"
      ]
     },
     "execution_count": 112,
     "metadata": {},
     "output_type": "execute_result"
    }
   ],
   "source": [
    "def answer_eight() -> str:\n",
    "    \"\"\"\n",
    "    Creates a new column to estimate the population using Energy Supply and Energy Supply per capita,\n",
    "    and finds the third most populous country according to this estimate.\n",
    "\n",
    "    Returns:\n",
    "        str: The name of the third most populous country.\n",
    "    \"\"\"\n",
    "    # YOUR CODE HERE\n",
    "    df = answer_one()\n",
    "    \n",
    "    df['Estimated Population'] = df['Energy Supply'] / df['Energy Supply per Capita']\n",
    "    sorted_population = df['Estimated Population'].sort_values(ascending=False)\n",
    "    third_most_populous_country = sorted_population.index[2]\n",
    "    \n",
    "    return third_most_populous_country\n",
    "answer_eight()"
   ]
  },
  {
   "cell_type": "code",
   "execution_count": 113,
   "metadata": {},
   "outputs": [],
   "source": [
    "# example of test cases\n",
    "assert type(answer_eight()) == str, \"Q8: You should return the name of the country!\""
   ]
  },
  {
   "cell_type": "code",
   "execution_count": null,
   "metadata": {},
   "outputs": [],
   "source": [
    "# space for proffesor tests"
   ]
  },
  {
   "cell_type": "markdown",
   "metadata": {},
   "source": [
    "## Problem 9\n",
    "\n",
    "Create a column that estimates the _number of citable documents per person_. \n",
    "\n",
    "What is the correlation between the _number of citable documents per capita_ and the _energy supply per capita_? Use the `.corr()` method, (Pearson's correlation).\n",
    "\n",
    "_This function should return a single number._"
   ]
  },
  {
   "cell_type": "code",
   "execution_count": 114,
   "metadata": {},
   "outputs": [
    {
     "data": {
      "text/plain": [
       "0.7940010435442946"
      ]
     },
     "execution_count": 114,
     "metadata": {},
     "output_type": "execute_result"
    }
   ],
   "source": [
    "def answer_nine() -> float:\n",
    "    \"\"\"\n",
    "    Creates a column to estimate the number of citable documents per person and \n",
    "    calculates the Pearson correlation between the number of citable documents per capita \n",
    "    and the energy supply per capita.\n",
    "\n",
    "    Returns:\n",
    "        float: The Pearson correlation coefficient.\n",
    "    \"\"\"\n",
    "    # YOUR CODE HERE\n",
    "    df = answer_one()\n",
    "    \n",
    "    # Estimate the number of citable documents per person\n",
    "    df['Citable Documents per Capita'] = df['Citable documents'] / (df['Energy Supply'] / df['Energy Supply per Capita'])\n",
    "    correlation = df['Citable Documents per Capita'].corr(df['Energy Supply per Capita'])\n",
    "    \n",
    "    return correlation\n",
    "answer_nine()"
   ]
  },
  {
   "cell_type": "code",
   "execution_count": 115,
   "metadata": {},
   "outputs": [],
   "source": [
    "# example of test cases\n",
    "assert answer_nine() >= -1. and answer_nine() <= 1., \"Q9: A valid correlation should between -1 to 1!\""
   ]
  },
  {
   "cell_type": "code",
   "execution_count": null,
   "metadata": {},
   "outputs": [],
   "source": [
    "# space for proffesor tests"
   ]
  },
  {
   "cell_type": "markdown",
   "metadata": {},
   "source": [
    "## Problem 10\n",
    "\n",
    "Create a new column with a $1$ if the _country's % Renewable_ value is at or above the median for all countries in the _top 15_, and a $0$ if the _country's % Renewable_ value is below the median.\n",
    "\n",
    "_This function should return a series named `high_renew` whose index is the country name sorted in ascending order of rank._"
   ]
  },
  {
   "cell_type": "code",
   "execution_count": 116,
   "metadata": {},
   "outputs": [
    {
     "data": {
      "text/plain": [
       "Country\n",
       "China                 1\n",
       "United States         0\n",
       "Japan                 0\n",
       "United Kingdom        0\n",
       "Russian Federation    1\n",
       "Canada                1\n",
       "Germany               1\n",
       "India                 0\n",
       "France                1\n",
       "South Korea           0\n",
       "Italy                 1\n",
       "Spain                 1\n",
       "Iran                  0\n",
       "Australia             0\n",
       "Brazil                1\n",
       "Name: HighRenew, dtype: int32"
      ]
     },
     "execution_count": 116,
     "metadata": {},
     "output_type": "execute_result"
    }
   ],
   "source": [
    "def answer_ten() -> pd.Series:\n",
    "    \"\"\"\n",
    "    Creates a new column with a 1 if the country's % Renewable value is at or above the median \n",
    "    for all countries in the top 15, and a 0 if the country's % Renewable value is below the median.\n",
    "    \n",
    "    Returns:\n",
    "        pd.Series: A series named `high_renew` whose index is the country name sorted in ascending order of rank.\n",
    "    \"\"\"\n",
    "    # YOUR CODE HERE\n",
    "    df = answer_one()\n",
    "    \n",
    "    median_renewable = df['% Renewable'].median()\n",
    "    df['HighRenew'] = (df['% Renewable'] >= median_renewable).astype(int)\n",
    "    high_renew = df.sort_values(by='Rank')['HighRenew']\n",
    "    \n",
    "    return high_renew\n",
    "answer_ten()"
   ]
  },
  {
   "cell_type": "code",
   "execution_count": 117,
   "metadata": {},
   "outputs": [],
   "source": [
    "# example of test cases\n",
    "assert type(answer_ten()) == pd.Series, \"Q10: You should return a Series!\""
   ]
  },
  {
   "cell_type": "code",
   "execution_count": null,
   "metadata": {},
   "outputs": [],
   "source": [
    "# space for proffesor tests"
   ]
  },
  {
   "cell_type": "markdown",
   "metadata": {},
   "source": [
    "## Problem 11\n",
    "\n",
    "Use the following dictionary to group the _Countries by Continent_, then create a DataFrame that displays the sample size (the number of countries in each continent bin), and the _sum_, _mean_, and _std deviation_ for the estimated population of each country.\n",
    "\n",
    "```python\n",
    "ContinentDict  = {\n",
    "    'China':'Asia', \n",
    "    'United States':'North America', \n",
    "    'Japan':'Asia', \n",
    "    'United Kingdom':'Europe', \n",
    "    'Russian Federation':'Europe', \n",
    "    'Canada':'North America', \n",
    "    'Germany':'Europe', \n",
    "    'India':'Asia',\n",
    "    'France':'Europe', \n",
    "    'South Korea':'Asia', \n",
    "    'Italy':'Europe', \n",
    "    'Spain':'Europe', \n",
    "    'Iran':'Asia',\n",
    "    'Australia':'Australia', \n",
    "    'Brazil':'South America'\n",
    "}\n",
    "```\n",
    "\n",
    "_This function should return a DataFrame with index named Continent `['Asia', 'Australia', 'Europe', 'North America', 'South America']` and columns `['size', 'sum', 'mean', 'std']`_"
   ]
  },
  {
   "cell_type": "code",
   "execution_count": 118,
   "metadata": {},
   "outputs": [
    {
     "data": {
      "text/html": [
       "<div>\n",
       "<style scoped>\n",
       "    .dataframe tbody tr th:only-of-type {\n",
       "        vertical-align: middle;\n",
       "    }\n",
       "\n",
       "    .dataframe tbody tr th {\n",
       "        vertical-align: top;\n",
       "    }\n",
       "\n",
       "    .dataframe thead th {\n",
       "        text-align: right;\n",
       "    }\n",
       "</style>\n",
       "<table border=\"1\" class=\"dataframe\">\n",
       "  <thead>\n",
       "    <tr style=\"text-align: right;\">\n",
       "      <th></th>\n",
       "      <th>size</th>\n",
       "      <th>sum</th>\n",
       "      <th>mean</th>\n",
       "      <th>std</th>\n",
       "    </tr>\n",
       "    <tr>\n",
       "      <th>Continent</th>\n",
       "      <th></th>\n",
       "      <th></th>\n",
       "      <th></th>\n",
       "      <th></th>\n",
       "    </tr>\n",
       "  </thead>\n",
       "  <tbody>\n",
       "    <tr>\n",
       "      <th>Asia</th>\n",
       "      <td>5</td>\n",
       "      <td>2898666386.6106</td>\n",
       "      <td>579733277.32212</td>\n",
       "      <td>6.790979e+08</td>\n",
       "    </tr>\n",
       "    <tr>\n",
       "      <th>Australia</th>\n",
       "      <td>1</td>\n",
       "      <td>23316017.316017</td>\n",
       "      <td>23316017.316017</td>\n",
       "      <td>NaN</td>\n",
       "    </tr>\n",
       "    <tr>\n",
       "      <th>Europe</th>\n",
       "      <td>6</td>\n",
       "      <td>457929667.216372</td>\n",
       "      <td>76321611.202729</td>\n",
       "      <td>3.464767e+07</td>\n",
       "    </tr>\n",
       "    <tr>\n",
       "      <th>North America</th>\n",
       "      <td>2</td>\n",
       "      <td>352855249.48025</td>\n",
       "      <td>176427624.740125</td>\n",
       "      <td>1.996696e+08</td>\n",
       "    </tr>\n",
       "    <tr>\n",
       "      <th>South America</th>\n",
       "      <td>1</td>\n",
       "      <td>205915254.237288</td>\n",
       "      <td>205915254.237288</td>\n",
       "      <td>NaN</td>\n",
       "    </tr>\n",
       "  </tbody>\n",
       "</table>\n",
       "</div>"
      ],
      "text/plain": [
       "               size               sum              mean           std\n",
       "Continent                                                            \n",
       "Asia              5   2898666386.6106   579733277.32212  6.790979e+08\n",
       "Australia         1   23316017.316017   23316017.316017           NaN\n",
       "Europe            6  457929667.216372   76321611.202729  3.464767e+07\n",
       "North America     2   352855249.48025  176427624.740125  1.996696e+08\n",
       "South America     1  205915254.237288  205915254.237288           NaN"
      ]
     },
     "execution_count": 118,
     "metadata": {},
     "output_type": "execute_result"
    }
   ],
   "source": [
    "def answer_eleven() -> pd.DataFrame:\n",
    "    \"\"\"\n",
    "    Groups the countries by continent and creates a DataFrame that displays the sample size, sum, mean, \n",
    "    and standard deviation for the estimated population of each country.\n",
    "\n",
    "    Returns:\n",
    "        pd.DataFrame: A DataFrame with index named Continent and columns ['size', 'sum', 'mean', 'std'].\n",
    "    \"\"\"\n",
    "    # YOUR CODE HERE\n",
    "    df = answer_one()\n",
    "    \n",
    "    ContinentDict = {\n",
    "        'China': 'Asia', \n",
    "        'United States': 'North America', \n",
    "        'Japan': 'Asia', \n",
    "        'United Kingdom': 'Europe', \n",
    "        'Russian Federation': 'Europe', \n",
    "        'Canada': 'North America', \n",
    "        'Germany': 'Europe', \n",
    "        'India': 'Asia',\n",
    "        'France': 'Europe', \n",
    "        'South Korea': 'Asia', \n",
    "        'Italy': 'Europe', \n",
    "        'Spain': 'Europe', \n",
    "        'Iran': 'Asia',\n",
    "        'Australia': 'Australia', \n",
    "        'Brazil': 'South America'\n",
    "    }\n",
    "    \n",
    "    df['Continent'] = df.index.to_series().map(ContinentDict)\n",
    "    df['Estimated Population'] = df['Energy Supply'] / df['Energy Supply per Capita']\n",
    "    continent_stats = df.groupby('Continent')['Estimated Population'].agg(['size', 'sum', 'mean', 'std'])\n",
    "    \n",
    "    return continent_stats\n",
    "answer_eleven()"
   ]
  },
  {
   "cell_type": "code",
   "execution_count": 119,
   "metadata": {},
   "outputs": [],
   "source": [
    "# example of test cases\n",
    "assert type(answer_eleven()) == pd.DataFrame, \"Q11: You should return a DataFrame!\"\n",
    "assert answer_eleven().shape[0] == 5, \"Q11: Wrong row numbers!\"\n",
    "assert answer_eleven().shape[1] == 4, \"Q11: Wrong column numbers!\""
   ]
  },
  {
   "cell_type": "code",
   "execution_count": null,
   "metadata": {},
   "outputs": [],
   "source": [
    "# space for proffesor tests"
   ]
  },
  {
   "cell_type": "markdown",
   "metadata": {},
   "source": [
    "## Problem 12\n",
    "\n",
    "Cut (check `.cut()` from Pandas) _% Renewable_ into $5$ bins, but in the same column. Group _Top15_ by the _Continent_, as well as these new _% Renewable_ bins. How many countries are in each of these groups? You could check `.size()` as aggregation in group by.\n",
    "\n",
    "_This function should return a Series with a MultiIndex of `Continent`, then the bins for `% Renewable` (in string datatype). Do not include groups with no countries._"
   ]
  },
  {
   "cell_type": "code",
   "execution_count": 146,
   "metadata": {},
   "outputs": [
    {
     "data": {
      "text/plain": [
       "Continent      % Renewable Bins\n",
       "Asia           (2.212, 15.753]     4\n",
       "               (15.753, 29.227]    1\n",
       "               (29.227, 42.701]    0\n",
       "               (42.701, 56.174]    0\n",
       "               (56.174, 69.648]    0\n",
       "Australia      (2.212, 15.753]     1\n",
       "               (15.753, 29.227]    0\n",
       "               (29.227, 42.701]    0\n",
       "               (42.701, 56.174]    0\n",
       "               (56.174, 69.648]    0\n",
       "Europe         (2.212, 15.753]     1\n",
       "               (15.753, 29.227]    3\n",
       "               (29.227, 42.701]    2\n",
       "               (42.701, 56.174]    0\n",
       "               (56.174, 69.648]    0\n",
       "North America  (2.212, 15.753]     1\n",
       "               (15.753, 29.227]    0\n",
       "               (29.227, 42.701]    0\n",
       "               (42.701, 56.174]    0\n",
       "               (56.174, 69.648]    1\n",
       "South America  (2.212, 15.753]     0\n",
       "               (15.753, 29.227]    0\n",
       "               (29.227, 42.701]    0\n",
       "               (42.701, 56.174]    0\n",
       "               (56.174, 69.648]    1\n",
       "dtype: int64"
      ]
     },
     "execution_count": 146,
     "metadata": {},
     "output_type": "execute_result"
    }
   ],
   "source": [
    "def answer_twelve() -> pd.Series:\n",
    "    \"\"\"\n",
    "    Cuts % Renewable into 5 bins and groups the Top15 by Continent and these % Renewable bins.\n",
    "    Returns the number of countries in each group.\n",
    "\n",
    "    Returns:\n",
    "        pd.Series: A Series with a MultiIndex of `Continent`, then the bins for `% Renewable`.\n",
    "    \"\"\"\n",
    "    # YOUR CODE HERE\n",
    "    df = answer_one()\n",
    "\n",
    "    ContinentDict = {\n",
    "        'China': 'Asia', \n",
    "        'United States': 'North America', \n",
    "        'Japan': 'Asia', \n",
    "        'United Kingdom': 'Europe', \n",
    "        'Russian Federation': 'Europe', \n",
    "        'Canada': 'North America', \n",
    "        'Germany': 'Europe', \n",
    "        'India': 'Asia',\n",
    "        'France': 'Europe', \n",
    "        'South Korea': 'Asia', \n",
    "        'Italy': 'Europe', \n",
    "        'Spain': 'Europe', \n",
    "        'Iran': 'Asia',\n",
    "        'Australia': 'Australia', \n",
    "        'Brazil': 'South America'\n",
    "    }\n",
    "    \n",
    "    df['Continent'] = df.index.to_series().map(ContinentDict)\n",
    "    df['% Renewable Bins'] = pd.cut(df['% Renewable'], 5)\n",
    "    grouped = df.groupby(['Continent', '% Renewable Bins'], observed=False).size()\n",
    "    \n",
    "    return grouped\n",
    "answer_twelve()"
   ]
  },
  {
   "cell_type": "code",
   "execution_count": 147,
   "metadata": {},
   "outputs": [],
   "source": [
    "# example of test cases\n",
    "assert type(answer_twelve()) == pd.Series, \"Q12: You should return a Series!\"\n",
    "assert len(answer_twelve()) == 25, \"Q12: Wrong result numbers!\""
   ]
  },
  {
   "cell_type": "code",
   "execution_count": null,
   "metadata": {},
   "outputs": [],
   "source": [
    "# space for proffesor tests"
   ]
  },
  {
   "cell_type": "markdown",
   "metadata": {},
   "source": [
    "## Problem 13\n",
    "\n",
    "Convert the _Population Estimate_ series to a string with thousands separator (using _dots_). Use all significant digits (do not round the results).\n",
    "\n",
    "e.g. 12345678.90 -> 12.345.678,90\n",
    "\n",
    "_This function should return a series `pop_est` whose index is the country name and whose values are the population estimate string_"
   ]
  },
  {
   "cell_type": "code",
   "execution_count": 149,
   "metadata": {},
   "outputs": [
    {
     "data": {
      "text/plain": [
       "Country\n",
       "China                 1.367.645.161,29\n",
       "United States           317.615.384,62\n",
       "Japan                   127.409.395,97\n",
       "United Kingdom           63.870.967,74\n",
       "Russian Federation      143.500.000,00\n",
       "Canada                   35.239.864,86\n",
       "Germany                  80.369.696,97\n",
       "India                 1.276.730.769,23\n",
       "France                   63.837.349,40\n",
       "South Korea              49.805.429,86\n",
       "Italy                    59.908.256,88\n",
       "Spain                    46.443.396,23\n",
       "Iran                     77.075.630,25\n",
       "Australia                23.316.017,32\n",
       "Brazil                  205.915.254,24\n",
       "Name: Estimated Population, dtype: object"
      ]
     },
     "execution_count": 149,
     "metadata": {},
     "output_type": "execute_result"
    }
   ],
   "source": [
    "def answer_thirteen() -> pd.Series:\n",
    "    \"\"\"\n",
    "    Converts the Population Estimate series to a string with thousands separator (using dots).\n",
    "    Use all significant digits (do not round the results).\n",
    "\n",
    "    Returns:\n",
    "        pd.Series: A series `pop_est` whose index is the country name and whose values are the population estimate string.\n",
    "    \"\"\"\n",
    "    # YOUR CODE HERE\n",
    "    df = answer_one()\n",
    "    df['Estimated Population'] = df['Energy Supply'] / df['Energy Supply per Capita']\n",
    "    pop_est = df['Estimated Population'].apply(lambda x: '{:,.2f}'.format(x).replace(',', 'X').replace('.', ',').replace('X', '.'))\n",
    "    \n",
    "    return pop_est\n",
    "answer_thirteen()"
   ]
  },
  {
   "cell_type": "code",
   "execution_count": 150,
   "metadata": {},
   "outputs": [],
   "source": [
    "# example of test cases\n",
    "assert type(answer_thirteen()) == pd.Series, \"Q13: You should return a Series!\"\n",
    "assert len(answer_thirteen()) == 15, \"Q13: Wrong result numbers!\""
   ]
  },
  {
   "cell_type": "code",
   "execution_count": null,
   "metadata": {},
   "outputs": [],
   "source": [
    "# space for proffesor tests"
   ]
  }
 ],
 "metadata": {
  "kernelspec": {
   "display_name": "entorno",
   "language": "python",
   "name": "entorno"
  },
  "language_info": {
   "codemirror_mode": {
    "name": "ipython",
    "version": 3
   },
   "file_extension": ".py",
   "mimetype": "text/x-python",
   "name": "python",
   "nbconvert_exporter": "python",
   "pygments_lexer": "ipython3",
   "version": "3.11.9"
  }
 },
 "nbformat": 4,
 "nbformat_minor": 2
}
