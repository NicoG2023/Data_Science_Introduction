{
 "cells": [
  {
   "cell_type": "markdown",
   "metadata": {},
   "source": [
    "# WorkShop 4\n",
    "\n",
    "It is the time to be a Machine Learning Engineer. Pay a lot of attention for instructions."
   ]
  },
  {
   "cell_type": "markdown",
   "metadata": {},
   "source": [
    "# Section 1\n",
    "\n",
    "For this assignment, you will be using the _Breast Cancer Wisconsin_ (Diagnostic) Database to create a classifier that can help diagnose patients. First, read through the description of the dataset (below).\n"
   ]
  },
  {
   "cell_type": "code",
   "execution_count": 36,
   "metadata": {},
   "outputs": [
    {
     "name": "stdout",
     "output_type": "stream",
     "text": [
      ".. _breast_cancer_dataset:\n",
      "\n",
      "Breast cancer wisconsin (diagnostic) dataset\n",
      "--------------------------------------------\n",
      "\n",
      "**Data Set Characteristics:**\n",
      "\n",
      ":Number of Instances: 569\n",
      "\n",
      ":Number of Attributes: 30 numeric, predictive attributes and the class\n",
      "\n",
      ":Attribute Information:\n",
      "    - radius (mean of distances from center to points on the perimeter)\n",
      "    - texture (standard deviation of gray-scale values)\n",
      "    - perimeter\n",
      "    - area\n",
      "    - smoothness (local variation in radius lengths)\n",
      "    - compactness (perimeter^2 / area - 1.0)\n",
      "    - concavity (severity of concave portions of the contour)\n",
      "    - concave points (number of concave portions of the contour)\n",
      "    - symmetry\n",
      "    - fractal dimension (\"coastline approximation\" - 1)\n",
      "\n",
      "    The mean, standard error, and \"worst\" or largest (mean of the three\n",
      "    worst/largest values) of these features were computed for each image,\n",
      "    resulting in 30 features.  For instance, field 0 is Mean Radius, field\n",
      "    10 is Radius SE, field 20 is Worst Radius.\n",
      "\n",
      "    - class:\n",
      "            - WDBC-Malignant\n",
      "            - WDBC-Benign\n",
      "\n",
      ":Summary Statistics:\n",
      "\n",
      "===================================== ====== ======\n",
      "                                        Min    Max\n",
      "===================================== ====== ======\n",
      "radius (mean):                        6.981  28.11\n",
      "texture (mean):                       9.71   39.28\n",
      "perimeter (mean):                     43.79  188.5\n",
      "area (mean):                          143.5  2501.0\n",
      "smoothness (mean):                    0.053  0.163\n",
      "compactness (mean):                   0.019  0.345\n",
      "concavity (mean):                     0.0    0.427\n",
      "concave points (mean):                0.0    0.201\n",
      "symmetry (mean):                      0.106  0.304\n",
      "fractal dimension (mean):             0.05   0.097\n",
      "radius (standard error):              0.112  2.873\n",
      "texture (standard error):             0.36   4.885\n",
      "perimeter (standard error):           0.757  21.98\n",
      "area (standard error):                6.802  542.2\n",
      "smoothness (standard error):          0.002  0.031\n",
      "compactness (standard error):         0.002  0.135\n",
      "concavity (standard error):           0.0    0.396\n",
      "concave points (standard error):      0.0    0.053\n",
      "symmetry (standard error):            0.008  0.079\n",
      "fractal dimension (standard error):   0.001  0.03\n",
      "radius (worst):                       7.93   36.04\n",
      "texture (worst):                      12.02  49.54\n",
      "perimeter (worst):                    50.41  251.2\n",
      "area (worst):                         185.2  4254.0\n",
      "smoothness (worst):                   0.071  0.223\n",
      "compactness (worst):                  0.027  1.058\n",
      "concavity (worst):                    0.0    1.252\n",
      "concave points (worst):               0.0    0.291\n",
      "symmetry (worst):                     0.156  0.664\n",
      "fractal dimension (worst):            0.055  0.208\n",
      "===================================== ====== ======\n",
      "\n",
      ":Missing Attribute Values: None\n",
      "\n",
      ":Class Distribution: 212 - Malignant, 357 - Benign\n",
      "\n",
      ":Creator:  Dr. William H. Wolberg, W. Nick Street, Olvi L. Mangasarian\n",
      "\n",
      ":Donor: Nick Street\n",
      "\n",
      ":Date: November, 1995\n",
      "\n",
      "This is a copy of UCI ML Breast Cancer Wisconsin (Diagnostic) datasets.\n",
      "https://goo.gl/U2Uwz2\n",
      "\n",
      "Features are computed from a digitized image of a fine needle\n",
      "aspirate (FNA) of a breast mass.  They describe\n",
      "characteristics of the cell nuclei present in the image.\n",
      "\n",
      "Separating plane described above was obtained using\n",
      "Multisurface Method-Tree (MSM-T) [K. P. Bennett, \"Decision Tree\n",
      "Construction Via Linear Programming.\" Proceedings of the 4th\n",
      "Midwest Artificial Intelligence and Cognitive Science Society,\n",
      "pp. 97-101, 1992], a classification method which uses linear\n",
      "programming to construct a decision tree.  Relevant features\n",
      "were selected using an exhaustive search in the space of 1-4\n",
      "features and 1-3 separating planes.\n",
      "\n",
      "The actual linear program used to obtain the separating plane\n",
      "in the 3-dimensional space is that described in:\n",
      "[K. P. Bennett and O. L. Mangasarian: \"Robust Linear\n",
      "Programming Discrimination of Two Linearly Inseparable Sets\",\n",
      "Optimization Methods and Software 1, 1992, 23-34].\n",
      "\n",
      "This database is also available through the UW CS ftp server:\n",
      "\n",
      "ftp ftp.cs.wisc.edu\n",
      "cd math-prog/cpo-dataset/machine-learn/WDBC/\n",
      "\n",
      ".. dropdown:: References\n",
      "\n",
      "  - W.N. Street, W.H. Wolberg and O.L. Mangasarian. Nuclear feature extraction\n",
      "    for breast tumor diagnosis. IS&T/SPIE 1993 International Symposium on\n",
      "    Electronic Imaging: Science and Technology, volume 1905, pages 861-870,\n",
      "    San Jose, CA, 1993.\n",
      "  - O.L. Mangasarian, W.N. Street and W.H. Wolberg. Breast cancer diagnosis and\n",
      "    prognosis via linear programming. Operations Research, 43(4), pages 570-577,\n",
      "    July-August 1995.\n",
      "  - W.H. Wolberg, W.N. Street, and O.L. Mangasarian. Machine learning techniques\n",
      "    to diagnose breast cancer from fine-needle aspirates. Cancer Letters 77 (1994)\n",
      "    163-171.\n",
      "\n"
     ]
    }
   ],
   "source": [
    "import numpy as np\n",
    "import pandas as pd\n",
    "from sklearn.datasets import load_breast_cancer\n",
    "\n",
    "cancer = load_breast_cancer()\n",
    "\n",
    "print(cancer.DESCR)"
   ]
  },
  {
   "cell_type": "markdown",
   "metadata": {},
   "source": [
    "### Problem 1.1\n",
    "\n",
    "_Scikit-learn_ works with lists, numpy arrays, scipy-sparse matrices, and pandas DataFrames, so converting the dataset to a DataFrame is not necessary for training this model. Using a _DataFrame_ does however help make many things easier such as munging data, so let's practice creating a classifier with a pandas DataFrame. \n",
    "\n",
    "\n",
    "Convert the sklearn.dataset `cancer` to a DataFrame. \n",
    "\n",
    "_This function should return a_ `(569, 31)` _DataFrame with:_\n",
    "\n",
    "```\n",
    "columns = \n",
    "    ['mean radius', 'mean texture', 'mean perimeter', 'mean area',\n",
    "    'mean smoothness', 'mean compactness', 'mean concavity',\n",
    "    'mean concave points', 'mean symmetry', 'mean fractal dimension',\n",
    "    'radius error', 'texture error', 'perimeter error', 'area error',\n",
    "    'smoothness error', 'compactness error', 'concavity error',\n",
    "    'concave points error', 'symmetry error', 'fractal dimension error',\n",
    "    'worst radius', 'worst texture', 'worst perimeter', 'worst area',\n",
    "    'worst smoothness', 'worst compactness', 'worst concavity',\n",
    "    'worst concave points', 'worst symmetry', 'worst fractal dimension',\n",
    "    'target']\n",
    "\n",
    "index = RangeIndex(start=0, stop=569, step=1)\n",
    "```"
   ]
  },
  {
   "cell_type": "code",
   "execution_count": 37,
   "metadata": {},
   "outputs": [
    {
     "name": "stdout",
     "output_type": "stream",
     "text": [
      "<class 'pandas.core.frame.DataFrame'>\n",
      "RangeIndex: 569 entries, 0 to 568\n",
      "Data columns (total 31 columns):\n",
      " #   Column                   Non-Null Count  Dtype  \n",
      "---  ------                   --------------  -----  \n",
      " 0   mean radius              569 non-null    float64\n",
      " 1   mean texture             569 non-null    float64\n",
      " 2   mean perimeter           569 non-null    float64\n",
      " 3   mean area                569 non-null    float64\n",
      " 4   mean smoothness          569 non-null    float64\n",
      " 5   mean compactness         569 non-null    float64\n",
      " 6   mean concavity           569 non-null    float64\n",
      " 7   mean concave points      569 non-null    float64\n",
      " 8   mean symmetry            569 non-null    float64\n",
      " 9   mean fractal dimension   569 non-null    float64\n",
      " 10  radius error             569 non-null    float64\n",
      " 11  texture error            569 non-null    float64\n",
      " 12  perimeter error          569 non-null    float64\n",
      " 13  area error               569 non-null    float64\n",
      " 14  smoothness error         569 non-null    float64\n",
      " 15  compactness error        569 non-null    float64\n",
      " 16  concavity error          569 non-null    float64\n",
      " 17  concave points error     569 non-null    float64\n",
      " 18  symmetry error           569 non-null    float64\n",
      " 19  fractal dimension error  569 non-null    float64\n",
      " 20  worst radius             569 non-null    float64\n",
      " 21  worst texture            569 non-null    float64\n",
      " 22  worst perimeter          569 non-null    float64\n",
      " 23  worst area               569 non-null    float64\n",
      " 24  worst smoothness         569 non-null    float64\n",
      " 25  worst compactness        569 non-null    float64\n",
      " 26  worst concavity          569 non-null    float64\n",
      " 27  worst concave points     569 non-null    float64\n",
      " 28  worst symmetry           569 non-null    float64\n",
      " 29  worst fractal dimension  569 non-null    float64\n",
      " 30  target                   569 non-null    int32  \n",
      "dtypes: float64(30), int32(1)\n",
      "memory usage: 135.7 KB\n"
     ]
    }
   ],
   "source": [
    "def answer_one() -> pd.DataFrame:\n",
    "    \"\"\"\n",
    "    Converts the sklearn breast cancer dataset to a pandas DataFrame.\n",
    "    \n",
    "    Returns:\n",
    "        pd.DataFrame: A DataFrame with shape (569, 31) containing the breast cancer data and the target.\n",
    "    \"\"\"\n",
    "    # YOUR CODE HERE\n",
    "    cancer_df= pd.DataFrame(data=cancer.data, columns=cancer.feature_names)\n",
    "    cancer_df['target'] = cancer.target\n",
    "\n",
    "    return cancer_df\n",
    "\n",
    "cancer_df= answer_one()\n",
    "cancer_df.info()"
   ]
  },
  {
   "cell_type": "code",
   "execution_count": 38,
   "metadata": {},
   "outputs": [],
   "source": [
    "# space for professor tests"
   ]
  },
  {
   "cell_type": "markdown",
   "metadata": {},
   "source": [
    "### Problem 1.2\n",
    "\n",
    "What is the class distribution? (i.e. how many instances of `malignant` and how many `benign`?)\n",
    "\n",
    "_This function should return a Series named `target` of length 2 with integer values and index =_ `['malignant', 'benign']`"
   ]
  },
  {
   "cell_type": "code",
   "execution_count": 39,
   "metadata": {},
   "outputs": [],
   "source": [
    "def answer_two() -> pd.Series:\n",
    "    \"\"\"\n",
    "    This function calculates how many instances of 'malignant' and 'benign' are in the dataset.\n",
    "    \n",
    "    Returns:\n",
    "        pd.Series: A Series with the count of 'malignant' and 'benign' instances.\n",
    "    \"\"\"\n",
    "    # YOUR CODE HERE\n",
    "    cancer_df = answer_one()\n",
    "\n",
    "    target_names = pd.Series(['malignant','benign'], index=[0,1])\n",
    "    target = cancer_df['target'].map(target_names)\n",
    "\n",
    "    class_distribution = target.value_counts()\n",
    "    return class_distribution"
   ]
  },
  {
   "cell_type": "code",
   "execution_count": 40,
   "metadata": {},
   "outputs": [],
   "source": [
    "# space for professor tests"
   ]
  },
  {
   "cell_type": "markdown",
   "metadata": {},
   "source": [
    "### Problem 1.3\n",
    "\n",
    "Split the DataFrame into `X` (the data) and `y` (the labels).\n",
    "\n",
    "_This function should return a tuple of length 2: `(X, y)`, where:_\n",
    "\n",
    "- _`X` has shape `(569, 30)`_\n",
    "- _`y` has shape `(569,)`._"
   ]
  },
  {
   "cell_type": "code",
   "execution_count": 41,
   "metadata": {},
   "outputs": [],
   "source": [
    "def answer_three() -> tuple[pd.DataFrame, pd.Series]:\n",
    "    \"\"\"\n",
    "    This function separates the features and the target from the breast cancer dataset.\n",
    "    \n",
    "    Returns:\n",
    "        Tuple[pd.DataFrame, pd.Series]: A tuple containing X with shape (569, 30) and y with shape (569,).\n",
    "    \"\"\"\n",
    "    # YOUR CODE HERE\n",
    "    cancer_df= answer_one()\n",
    "    X = cancer_df.drop(columns='target')\n",
    "    y = cancer_df['target']\n",
    "\n",
    "    return X,y"
   ]
  },
  {
   "cell_type": "code",
   "execution_count": 42,
   "metadata": {},
   "outputs": [],
   "source": [
    "# space for professor tests"
   ]
  },
  {
   "cell_type": "markdown",
   "metadata": {},
   "source": [
    "### Problem 1.4\n",
    "\n",
    "Using `train_test_split`, split `X` and `y` into training and test sets `(X_train, X_test, y_train, and y_test)`.\n",
    "\n",
    "__Set the random number generator state to 0 using `random_state=0` to make sure your results match the autograder!__\n",
    "\n",
    "_This function should return a tuple of length 4: `(X_train, X_test, y_train, y_test)`, where:_\n",
    "\n",
    "- _`X_train` has shape `(426, 30)`_\n",
    "- _`X_test` has shape `(143, 30)`_\n",
    "- _`y_train` has shape `(426,)`_\n",
    "- _`y_test` has shape `(143,)`_"
   ]
  },
  {
   "cell_type": "code",
   "execution_count": 57,
   "metadata": {},
   "outputs": [],
   "source": [
    "from sklearn.model_selection import train_test_split\n",
    "\n",
    "def answer_four() -> tuple[pd.DataFrame, pd.DataFrame, pd.Series, pd.Series]:\n",
    "    \"\"\"\n",
    "    Uses train_test_split to create training and test sets from the features and target.\n",
    "    \n",
    "    Returns:\n",
    "        Tuple[pd.DataFrame, pd.DataFrame, pd.Series, pd.Series]: A tuple containing\n",
    "        X_train, X_test, y_train, and y_test with respective shapes (426, 30), (143, 30), (426,), and (143,).\n",
    "    \"\"\"\n",
    "    # YOUR CODE HERE\n",
    "    X,y = answer_three()\n",
    "    X_train, X_test, y_train, y_test = train_test_split(X, y, test_size=0.25, random_state=0)\n",
    "\n",
    "    return X_train, X_test, y_train, y_test"
   ]
  },
  {
   "cell_type": "code",
   "execution_count": 44,
   "metadata": {},
   "outputs": [],
   "source": [
    "# space for professor tests"
   ]
  },
  {
   "cell_type": "markdown",
   "metadata": {},
   "source": [
    "### Problem 1.5\n",
    "\n",
    "Using KNeighborsClassifier, fit a k-nearest neighbors (knn) classifier with `X_train`, `y_train` and using one nearest neighbor (`n_neighbors = 1`).\n",
    "\n",
    "_This function should return a `sklearn.neighbors.classification.KNeighborsClassifier`._"
   ]
  },
  {
   "cell_type": "code",
   "execution_count": 45,
   "metadata": {},
   "outputs": [],
   "source": [
    "from sklearn.neighbors import KNeighborsClassifier\n",
    "\n",
    "def answer_five() -> KNeighborsClassifier:\n",
    "    \"\"\"\n",
    "    Fits a k-nearest neighbors (knn) classifier using X_train and y_train with n_neighbors=1.\n",
    "    \n",
    "    Returns:\n",
    "        KNeighborsClassifier: A fitted k-nearest neighbors classifier.\n",
    "    \"\"\"\n",
    "    # YOUR CODE HERE\n",
    "    X_train, X_test, y_train, y_test = answer_four()\n",
    "    knn = KNeighborsClassifier(n_neighbors=1)\n",
    "\n",
    "    knn.fit(X_train, y_train)\n",
    "\n",
    "    return knn"
   ]
  },
  {
   "cell_type": "code",
   "execution_count": 46,
   "metadata": {},
   "outputs": [],
   "source": [
    "# space for professor tests"
   ]
  },
  {
   "cell_type": "markdown",
   "metadata": {},
   "source": [
    "### Problem 1.6\n",
    "\n",
    "Using your __knn classifier__, predict the class label using the mean value for each feature.\n",
    "\n",
    "___Hint:___ _You can use `cancer_df.mean()[:-1].values.reshape(1, -1)` which gets the mean value for each feature, ignores the target column, and reshapes the data from 1 dimension to 2 (necessary for the precict method of KNeighborsClassifier)._"
   ]
  },
  {
   "cell_type": "code",
   "execution_count": 47,
   "metadata": {},
   "outputs": [],
   "source": [
    "def answer_six() -> int:\n",
    "    \"\"\"\n",
    "    Predicts the class label using the mean value for each feature.\n",
    "    Uses the fitted knn classifier to predict the class label based on the mean value of each feature.\n",
    "    \n",
    "    Returns:\n",
    "        int: The predicted class label (0 for malignant, 1 for benign).\n",
    "    \"\"\"\n",
    "    # YOUR CODE HERE\n",
    "    knn = answer_five()\n",
    "    cancer_df = answer_one()\n",
    "    mean_values = cancer_df.mean()[:-1].values.reshape(1,-1)\n",
    "    prediction = knn.predict(mean_values)\n",
    "    return prediction[0]"
   ]
  },
  {
   "cell_type": "code",
   "execution_count": 48,
   "metadata": {},
   "outputs": [],
   "source": [
    "# space for professor tests"
   ]
  },
  {
   "cell_type": "markdown",
   "metadata": {},
   "source": [
    "### Problem 1.7\n",
    "\n",
    "Using your __knn classifier__, predict the class labels for the test set `X_test`.\n",
    "\n",
    "_This function should return a numpy array with shape `(143,)` and values either `0.0` or `1.0`._"
   ]
  },
  {
   "cell_type": "code",
   "execution_count": 59,
   "metadata": {},
   "outputs": [],
   "source": [
    "def answer_seven() -> np.ndarray:\n",
    "    \"\"\"\n",
    "    Predicts the class labels for the test set X_test using the knn classifier.\n",
    "    Uses the fitted knn classifier to predict the class labels for X_test.\n",
    "    \n",
    "    Returns:\n",
    "        np.ndarray: An array with shape (143,) containing the predicted class labels (0 or 1).\n",
    "    \"\"\"\n",
    "    # YOUR CODE HERE\n",
    "    knn = answer_five()\n",
    "    X_train, X_test, y_train, y_test = answer_four()\n",
    "    prediction = knn.predict(X_test)\n",
    "    return prediction"
   ]
  },
  {
   "cell_type": "code",
   "execution_count": 50,
   "metadata": {},
   "outputs": [],
   "source": [
    "# space for professor tests"
   ]
  },
  {
   "cell_type": "markdown",
   "metadata": {},
   "source": [
    "### Problem 1.8\n",
    "\n",
    "Find the score (_mean accuracy_) of your __knn classifier__ using `X_test` and `y_test`.\n",
    "\n",
    "_This function should return a float between $0$ and $1$._"
   ]
  },
  {
   "cell_type": "code",
   "execution_count": 61,
   "metadata": {},
   "outputs": [
    {
     "name": "stdout",
     "output_type": "stream",
     "text": [
      "0.916083916083916\n"
     ]
    }
   ],
   "source": [
    "def answer_eight() -> float:\n",
    "    \"\"\"\n",
    "    Calculates the mean accuracy of the knn classifier using X_test and y_test.\n",
    "    Uses the fitted knn classifier to calculate the accuracy score for X_test and y_test.\n",
    "    \n",
    "    Returns:\n",
    "        float: The mean accuracy score of the knn classifier.\n",
    "    \"\"\"\n",
    "    # YOUR CODE HERE\n",
    "    X_train, X_test, y_train, y_test = answer_four()\n",
    "    knn = answer_five()\n",
    "    score = knn.score(X_test, y_test)\n",
    "    return score"
   ]
  },
  {
   "cell_type": "code",
   "execution_count": 52,
   "metadata": {},
   "outputs": [],
   "source": [
    "# space for professor tests"
   ]
  },
  {
   "cell_type": "markdown",
   "metadata": {},
   "source": [
    "### Problem 1.9\n",
    "\n",
    "Using the plotting function below to visualize the different predicition scores between _train_ and _test sets_, as well as malignant and benign cells."
   ]
  },
  {
   "cell_type": "code",
   "execution_count": 67,
   "metadata": {},
   "outputs": [
    {
     "data": {
      "image/png": "[encoded data removed]",
      "text/plain": [
       "<Figure size 1000x600 with 1 Axes>"
      ]
     },
     "metadata": {},
     "output_type": "display_data"
    }
   ],
   "source": [
    "%matplotlib inline\n",
    "import matplotlib.pyplot as plt\n",
    "\n",
    "def answer_nine():\n",
    "    \"\"\"\n",
    "    Visualizes the different prediction scores between train and test sets, \n",
    "    as well as malignant and benign cells using the fitted knn classifier.\n",
    "    \"\"\"\n",
    "    \n",
    "    # YOUR CODE HERE\n",
    "    X_train, X_test, y_train, y_test = answer_four()\n",
    "    knn = answer_five()\n",
    "    y_train_pred = knn.predict(X_train)\n",
    "    y_test_pred = knn.predict(X_test)\n",
    "\n",
    "    train_accuracy = np.mean(y_train_pred == y_train)\n",
    "    test_accuracy = np.mean(y_test_pred == y_test)\n",
    "\n",
    "    malignant = X_test[y_test == 0]\n",
    "    benign = X_test[y_test == 1]\n",
    "\n",
    "    malignant_pred = knn.predict(malignant)\n",
    "    benign_pred = knn.predict(benign)\n",
    "    \n",
    "    malignant_accuracy = np.mean(malignant_pred == 0)\n",
    "    benign_accuracy = np.mean(benign_pred == 1)\n",
    "\n",
    "    plt.figure(figsize=(10, 6))\n",
    "    \n",
    "    categories = ['Train', 'Test', 'Malignant', 'Benign']\n",
    "    accuracies = [train_accuracy, test_accuracy, malignant_accuracy, benign_accuracy]\n",
    "    \n",
    "    plt.bar(categories, accuracies, color=['steelblue', 'green', 'red', 'orange'])\n",
    "    plt.ylim(0, 1)\n",
    "    plt.ylabel('Accuracy')\n",
    "    plt.title('Prediction Scores')\n",
    "    plt.show()\n",
    "\n",
    "answer_nine()"
   ]
  },
  {
   "cell_type": "markdown",
   "metadata": {},
   "source": [
    "## Section 2\n",
    "\n",
    "In this case, you are going to use a _.csv_ dataset to evaluate some performance."
   ]
  },
  {
   "cell_type": "code",
   "execution_count": 68,
   "metadata": {},
   "outputs": [],
   "source": [
    "# depencencies\n",
    "import numpy as np\n",
    "import pandas as pd"
   ]
  },
  {
   "cell_type": "markdown",
   "metadata": {},
   "source": [
    "### Problem 2.1\n",
    "\n",
    "Import the data from `assets/fraud_data.csv`. What percentage of the observations in the dataset are instances of fraud?\n",
    "\n",
    "_This function should return a float between $0$ and $1$._"
   ]
  },
  {
   "cell_type": "code",
   "execution_count": 69,
   "metadata": {},
   "outputs": [
    {
     "name": "stdout",
     "output_type": "stream",
     "text": [
      "0.016410823768035772\n"
     ]
    }
   ],
   "source": [
    "def answer_eleven() -> float:\n",
    "    \"\"\"\n",
    "    Calculates the percentage of fraud instances in the dataset.\n",
    "    \n",
    "    Returns:\n",
    "        float: The percentage of fraud instances in the dataset, between 0 and 1.\n",
    "    \"\"\"\n",
    "    # YOUR CODE HERE\n",
    "    df = pd.read_csv('assets/fraud_data.csv')\n",
    "    fraud_percentage = df['Class'].mean()\n",
    "    return fraud_percentage\n",
    "\n",
    "print(answer_eleven())"
   ]
  },
  {
   "cell_type": "code",
   "execution_count": null,
   "metadata": {},
   "outputs": [],
   "source": [
    "# space for professor tests"
   ]
  },
  {
   "cell_type": "code",
   "execution_count": 70,
   "metadata": {},
   "outputs": [],
   "source": [
    "# Use X_train, X_test, y_train, y_test for all of the following questions\n",
    "from sklearn.model_selection import train_test_split\n",
    "\n",
    "cancer_df= pd.read_csv('assets/fraud_data.csv')\n",
    "\n",
    "X = df.iloc[:,:-1]\n",
    "y = df.iloc[:,-1]\n",
    "\n",
    "X_train, X_test, y_train, y_test = train_test_split(X, y, random_state=0)"
   ]
  },
  {
   "cell_type": "markdown",
   "metadata": {},
   "source": [
    "### Problem 2.2\n",
    "\n",
    "Using `X_train`, `X_test`, `y_train`, and `y_test` (as defined above), train a dummy classifier that classifies everything as the majority class of the training data. What is the accuracy of this classifier? What is the recall?\n",
    "\n",
    "_This function should a return a tuple with two floats, i.e. `(accuracy score, recall score)`._"
   ]
  },
  {
   "cell_type": "code",
   "execution_count": 71,
   "metadata": {},
   "outputs": [
    {
     "name": "stdout",
     "output_type": "stream",
     "text": [
      "(0.6293706293706294, 1.0)\n"
     ]
    }
   ],
   "source": [
    "from sklearn.dummy import DummyClassifier\n",
    "from sklearn.metrics import recall_score, accuracy_score\n",
    "\n",
    "def answer_twelve() -> tuple[float, float]:\n",
    "    \"\"\"\n",
    "    Trains a dummy classifier that classifies everything as the majority class of the training data.\n",
    "    Calculates the accuracy and recall of this classifier.\n",
    "    \n",
    "    Returns:\n",
    "        Tuple[float, float]: The accuracy score and recall score of the dummy classifier.\n",
    "    \"\"\"\n",
    "    # YOUR CODE HERE\n",
    "    dummy_clf = DummyClassifier(strategy='most_frequent')\n",
    "    dummy_clf.fit(X_train, y_train)\n",
    "    y_hat = dummy_clf.predict(X_test)\n",
    "    accuracy = accuracy_score(y_test, y_hat)\n",
    "    recall = recall_score(y_test, y_hat)\n",
    "\n",
    "    return accuracy, recall\n",
    "print(answer_twelve())"
   ]
  },
  {
   "cell_type": "code",
   "execution_count": null,
   "metadata": {},
   "outputs": [],
   "source": [
    "# space for professor tests"
   ]
  },
  {
   "cell_type": "markdown",
   "metadata": {},
   "source": [
    "### Problem 2.3\n",
    "\n",
    "Using `X_train`, `X_test`, `y_train`, and `y_test` (as defined above), train a _XGBoost_ classifer using the default parameters. What is the accuracy, recall, precision, and F1 Score of this classifier?\n",
    "\n",
    "_This function should a return a tuple with three floats, i.e. `(accuracy score, recall score, precision score, f1 score)`._"
   ]
  },
  {
   "cell_type": "code",
   "execution_count": 72,
   "metadata": {},
   "outputs": [
    {
     "name": "stdout",
     "output_type": "stream",
     "text": [
      "(0.972027972027972, 0.9666666666666667, 0.9886363636363636, 0.9775280898876404)\n"
     ]
    }
   ],
   "source": [
    "from sklearn.metrics import accuracy_score, recall_score, precision_score, f1_score\n",
    "from xgboost import XGBClassifier\n",
    "\n",
    "def answer_thirteen() -> tuple[float, float, float, float]:\n",
    "    \"\"\"\n",
    "    Trains an XGBoost classifier using the training data and evaluates it using the test data.\n",
    "    Calculates the accuracy, recall, precision, and F1 score of the classifier.\n",
    "    \n",
    "    Returns:\n",
    "        Tuple[float, float, float, float]: The accuracy score, recall score, precision score, and F1 score of the classifier.\n",
    "    \"\"\"\n",
    "    # YOUR CODE HERE\n",
    "    xgb_clf = XGBClassifier()\n",
    "    \n",
    "    xgb_clf.fit(X_train, y_train)\n",
    "    y_hat = xgb_clf.predict(X_test)\n",
    "    \n",
    "    accuracy = accuracy_score(y_test, y_hat)\n",
    "    recall = recall_score(y_test, y_hat)\n",
    "    precision = precision_score(y_test, y_hat)\n",
    "    f1 = f1_score(y_test, y_hat)\n",
    "    \n",
    "    return accuracy, recall, precision, f1\n",
    "print(answer_thirteen())"
   ]
  },
  {
   "cell_type": "code",
   "execution_count": null,
   "metadata": {},
   "outputs": [],
   "source": [
    "# space for professor tests"
   ]
  }
 ],
 "metadata": {
  "kernelspec": {
   "display_name": "data_science_course",
   "language": "python",
   "name": "python3"
  },
  "language_info": {
   "codemirror_mode": {
    "name": "ipython",
    "version": 3
   },
   "file_extension": ".py",
   "mimetype": "text/x-python",
   "name": "python",
   "nbconvert_exporter": "python",
   "pygments_lexer": "ipython3",
   "version": "3.11.9"
  }
 },
 "nbformat": 4,
 "nbformat_minor": 2
}
