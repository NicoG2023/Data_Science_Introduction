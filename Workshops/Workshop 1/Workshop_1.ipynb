{
 "cells": [
  {
   "cell_type": "markdown",
   "metadata": {},
   "source": [
    "# Workshop 1\n",
    "\n",
    "Here you're gonna test your __data scientist junior__ skills. Read carefully each one of the problems, write your own test cases, and validate everything works as expected."
   ]
  },
  {
   "cell_type": "markdown",
   "metadata": {},
   "source": [
    "## 1. Regular Expressions\n",
    "\n",
    "As follows complete the code based on the __requirement__. There is a part `#YOUR CODE HERE` where you _should complete_ to accomplish the task. However, you _could_ change anything you want."
   ]
  },
  {
   "cell_type": "markdown",
   "metadata": {},
   "source": [
    "### Problem 1.1\n",
    "\n",
    "Find a list of all of all of the names in the following string using _regex_."
   ]
  },
  {
   "cell_type": "code",
   "execution_count": 5,
   "metadata": {},
   "outputs": [],
   "source": [
    "import re\n",
    "def names() -> list:\n",
    "    \"\"\"\n",
    "    Find all names in a given string using regex.\n",
    "\n",
    "    Returns:\n",
    "        A list of names found in the string.\n",
    "    \"\"\"\n",
    "    simple_string = \"\"\"Amy is 5 years old, and her sister Mary is 2 years old. \n",
    "    Ruth and Peter, their parents, have 3 kids.\"\"\"\n",
    "\n",
    "    #All names are (and should) be capitalized\n",
    "    pattern = r'[A-Z][a-z]+'\n",
    "\n",
    "    return re.findall(pattern, simple_string)"
   ]
  },
  {
   "cell_type": "code",
   "execution_count": 6,
   "metadata": {},
   "outputs": [
    {
     "name": "stdout",
     "output_type": "stream",
     "text": [
      "['Amy', 'Mary', 'Ruth', 'Peter']\n"
     ]
    }
   ],
   "source": [
    "# example of test case\n",
    "assert len(names()) == 4, \"There are four names in the simple_string.\"\n",
    "print(names())"
   ]
  },
  {
   "cell_type": "markdown",
   "metadata": {},
   "source": [
    "### Problem 1.2\n",
    "\n",
    "The _dataset file_ in [assets/grades.txt](./assets/grades.txt) contains a line separated _list of people_ with their __grade__ in a class. Create a _regex_ to generate a list of just those students who received a __B__ in the course."
   ]
  },
  {
   "cell_type": "code",
   "execution_count": 7,
   "metadata": {},
   "outputs": [],
   "source": [
    "import re\n",
    "def grades() -> list:\n",
    "    \"\"\"\n",
    "    Generate a list of students who received a B in the course.\n",
    "\n",
    "    Returns:\n",
    "        A list of students who received a B.\n",
    "    \"\"\"\n",
    "    with open(\"assets/grades.txt\", \"r\") as file:\n",
    "        grades = file.read()\n",
    "\n",
    "    pattern = r'^[A-Za-z\\s]+: B\\s*$'\n",
    "    #\\s to match any space, $ means the end of the line\n",
    "    students = re.findall(pattern, grades, re.MULTILINE)\n",
    "\n",
    "    return students"
   ]
  },
  {
   "cell_type": "code",
   "execution_count": 8,
   "metadata": {},
   "outputs": [
    {
     "name": "stdout",
     "output_type": "stream",
     "text": [
      "['Bell Kassulke: B', 'Simon Loidl: B ', 'Elias Jovanovic: B ', 'Hakim Botros: B', 'Emilie Lorentsen: B', 'Jake Wood: B', 'Fatemeh Akhtar: B', 'Kim Weston: B', 'Yasmin Dar: B', 'Viswamitra Upandhye: B', 'Killian Kaufman: B', 'Elwood Page: B', 'Elodie Booker: B', 'Adnan Chen: B', 'Hank Spinka: B', 'Hannah Bayer: B']\n"
     ]
    }
   ],
   "source": [
    "# example of test case\n",
    "assert len(grades()) == 16\n",
    "print(grades())"
   ]
  },
  {
   "cell_type": "markdown",
   "metadata": {},
   "source": [
    "### Problem 1.3\n",
    "\n",
    "Consider the standard _web log file_ in [assets/logdata.txt](./assets/logdata.txt). This _file_ records the _access_ a user makes when visiting a web page. Each __line of the log__ has the following _items_:\n",
    "\n",
    "- a __host__ (e.g., `146.204.224.152`)\n",
    "- a __user_name__ (e.g., `feest6811`. _Hint:_ sometimes the user name is missing! In this case, use `-` as the value for the username.)\n",
    "- the __time__ a request was made (e.g., `21/Jun/2019:15:45:24 -0700`)\n",
    "- the post __request type__ (e.g., `POST /incentivize HTTP/1.1`. _Note:_ not everything is a POST!)\n",
    "\n",
    "Your task is to convert this into a list of dictionaries, where each dictionary looks like the following:\n",
    "\n",
    "```python\n",
    "example_dict = {\"host\":\"146.204.224.152\", \n",
    "                \"user_name\":\"feest6811\", \n",
    "                \"time\":\"21/Jun/2019:15:45:24 -0700\",\n",
    "                \"request\":\"POST /incentivize HTTP/1.1\"}\n",
    "```"
   ]
  },
  {
   "cell_type": "code",
   "execution_count": 18,
   "metadata": {},
   "outputs": [],
   "source": [
    "import re\n",
    "def logs() -> list:\n",
    "    \"\"\"\n",
    "    Create a list of dictionaries from a web log file using regex.\n",
    "\n",
    "    Returns:\n",
    "        A list of dictionaries with keys 'host', 'user_name', 'time', and 'request'.\n",
    "    \"\"\"\n",
    "    with open(\"assets/logdata.txt\", \"r\") as file:\n",
    "        logdata = file.read()\n",
    "    actions = re.split(r\"\\n\", logdata)\n",
    "\n",
    "    logs_list = []\n",
    "\n",
    "    pattern = r'(\\d+\\.\\d+\\.\\d+\\.\\d+) - (\\S+) \\[(.*?)\\] \"(.*?)\"'\n",
    "    #each () is a group, \\S is used to match any non-whitespace character\n",
    "    #(.*?) gets everything inside the square brackets and the requests (which is inside the double quotes)\n",
    "    \n",
    "    for action in actions:\n",
    "        match = re.match(pattern, action)\n",
    "        if match:\n",
    "            log_entry = {\n",
    "                \"host\": match.group(1),\n",
    "                \"user_name\": match.group(2),\n",
    "                \"time\": match.group(3),\n",
    "                \"request\": match.group(4),\n",
    "            }\n",
    "            logs_list.append(log_entry)\n",
    "\n",
    "    return logs_list\n",
    "\n"
   ]
  },
  {
   "cell_type": "code",
   "execution_count": 19,
   "metadata": {},
   "outputs": [
    {
     "name": "stdout",
     "output_type": "stream",
     "text": [
      "{'host': '146.204.224.152', 'user_name': 'feest6811', 'time': '21/Jun/2019:15:45:24 -0700', 'request': 'POST /incentivize HTTP/1.1'}\n",
      "{'host': '197.109.77.178', 'user_name': 'kertzmann3129', 'time': '21/Jun/2019:15:45:25 -0700', 'request': 'DELETE /virtual/solutions/target/web+services HTTP/2.0'}\n",
      "{'host': '156.127.178.177', 'user_name': 'okuneva5222', 'time': '21/Jun/2019:15:45:27 -0700', 'request': 'DELETE /interactive/transparent/niches/revolutionize HTTP/1.1'}\n",
      "Total log entries: 979\n"
     ]
    }
   ],
   "source": [
    "# Test cases\n",
    "one_item = {\n",
    "    \"host\": \"146.204.224.152\",\n",
    "    \"user_name\": \"feest6811\",\n",
    "    \"time\": \"21/Jun/2019:15:45:24 -0700\",\n",
    "    \"request\": \"POST /incentivize HTTP/1.1\",\n",
    "}\n",
    "\n",
    "# Ensure the item is in the logs\n",
    "assert (\n",
    "    one_item in logs()\n",
    "), \"Sorry, this item should be in the log results, check your formatting\"\n",
    "\n",
    "# Ensure the log length is correct\n",
    "assert len(logs()) == 979, \"There are 979 entries in the logdata.\"\n",
    "\n",
    "# Print a few entries to verify\n",
    "for entry in logs()[:3]:\n",
    "    print(entry)\n",
    "\n",
    "# To print the length of logs\n",
    "print(f\"Total log entries: {len(logs())}\")"
   ]
  },
  {
   "cell_type": "markdown",
   "metadata": {},
   "source": [
    "# 2. Descriptive Analysis\n",
    "\n",
    "For this section, you'll be looking at _2017 data on immunizations_ from the _CDC_. Your _datafile_ for next tasks is in [assets/NISPUF17.csv](./assets/NISPUF17.csv). A _data users guide_ for this, which you'll need to map the variables in the data to the questions being asked, is available at [assets/NIS-PUF17-DUG.pdf](./assets/NIS-PUF17-DUG.pdf)."
   ]
  },
  {
   "cell_type": "markdown",
   "metadata": {},
   "source": [
    "# Problem 2.1\n",
    "\n",
    "Write a function called _proportion\\_of\\_education_ which returns the proportion of __children__ in the dataset who had a mother with the education levels equal to less than high school ($<12$), high school ($12$), more than high school but not a college graduate ($>12$) and _college degree_.\n",
    "\n",
    "This _function_ should return a __dictionary__ in the form of (use the _correct numbers_, do not round numbers):\n",
    "\n",
    "```python\n",
    "{\n",
    "    \"less than high school\": 0.2,\n",
    "    \"high school\": 0.4,\n",
    "    \"more than high school but not college\": 0.2,\n",
    "    \"college\": 0.2\n",
    "}\n",
    "```"
   ]
  },
  {
   "cell_type": "code",
   "execution_count": 22,
   "metadata": {},
   "outputs": [
    {
     "name": "stdout",
     "output_type": "stream",
     "text": [
      "{'less than high school': 0.10202002459160373, 'high school': 0.172352011241876, 'more than high school but not college': 0.24588090637625154, 'college': 0.47974705779026877}\n"
     ]
    }
   ],
   "source": [
    "import pandas as pd\n",
    "\n",
    "def proportion_of_education() -> dict:\n",
    "    \"\"\"\n",
    "    Calculates the proportion of children whose mothers have different levels of education.\n",
    "\n",
    "    Returns:\n",
    "        A dictionary with the proportion of children whose mothers have less than high school, \n",
    "        high school, more than high school but not college, and college education.\n",
    "    \"\"\"\n",
    "    proportions = {}\n",
    "\n",
    "    # YOUR CODE HERE\n",
    "    df = pd.read_csv(\"assets/NISPUF17.csv\")\n",
    "    \n",
    "    # Assuming the column for mother's education level is 'EDUC1'\n",
    "    education_levels = {\n",
    "        1: \"less than high school\",\n",
    "        2: \"high school\",\n",
    "        3: \"more than high school but not college\",\n",
    "        4: \"college\"\n",
    "    }\n",
    "    \n",
    "    total_count = len(df)\n",
    "    proportions = df['EDUC1'].value_counts(normalize=True)\n",
    "    \n",
    "    result = {education_levels[level]: proportions[level] for level in education_levels}\n",
    "\n",
    "    #Checking if proportions are complete (equals 1)\n",
    "    total = sum(result.values())\n",
    "    #print(total)\n",
    "    return result\n",
    "\n",
    "print(proportion_of_education())\n"
   ]
  },
  {
   "cell_type": "code",
   "execution_count": 21,
   "metadata": {},
   "outputs": [
    {
     "name": "stdout",
     "output_type": "stream",
     "text": [
      "{'less than high school': '10.20%', 'high school': '17.24%', 'more than high school but not college': '24.59%', 'college': '47.97%'}\n",
      "1.0\n",
      "{'less than high school': '10.20%', 'high school': '17.24%', 'more than high school but not college': '24.59%', 'college': '47.97%'}\n",
      "1.0\n"
     ]
    }
   ],
   "source": [
    "# example of test cases\n",
    "assert type(proportion_of_education()) == type({}), \"You must return a dictionary.\"\n",
    "assert (\n",
    "    len(proportion_of_education()) == 4\n",
    "), \"You have not returned a dictionary with four items in it.\""
   ]
  },
  {
   "cell_type": "markdown",
   "metadata": {},
   "source": [
    "## Problem 2.2\n",
    "\n",
    "Let's explore the relationship between being _fed breastmilk_ as a child and getting a seasonal _influenza vaccine_ from a healthcare provider. Return a __tuple__ of the _average number of influenza vaccines_ for those children we know received breastmilk as a child and those who know did not.\n",
    "\n",
    "This _function_ should return a __tuple__ in the form (use the _correct numbers_):\n",
    "\n",
    "```python\n",
    "(2.5, 0.1)\n",
    "```"
   ]
  },
  {
   "cell_type": "code",
   "execution_count": 24,
   "metadata": {},
   "outputs": [
    {
     "name": "stdout",
     "output_type": "stream",
     "text": [
      "(1.8799187420058687, 1.5963945918878317)\n"
     ]
    }
   ],
   "source": [
    "import pandas as pd\n",
    "def average_influenza_doses() -> tuple:\n",
    "    \"\"\"\n",
    "    Calculate the average number of influenza vaccines for children who were breastfed and those who were not.\n",
    "\n",
    "    Returns:\n",
    "        A tuple containing the average number of influenza vaccines \n",
    "        for children who were breastfed and those who were not.\n",
    "    \"\"\"\n",
    "\n",
    "    # Read the CSV file\n",
    "    df = pd.read_csv(\"assets/NISPUF17.csv\")\n",
    "\n",
    "    breastfed = df[df['CBF_01'] == 1]['P_NUMFLU']\n",
    "    not_breastfed = df[df['CBF_01'] == 2]['P_NUMFLU']\n",
    "\n",
    "    avg_breastfed = breastfed.mean()\n",
    "    avg_not_breastfed = not_breastfed.mean()\n",
    "\n",
    "    doses = (avg_breastfed, avg_not_breastfed)\n",
    "\n",
    "    return doses\n",
    "\n",
    "# Example of calling the function\n",
    "print(average_influenza_doses())"
   ]
  },
  {
   "cell_type": "code",
   "execution_count": 25,
   "metadata": {},
   "outputs": [],
   "source": [
    "# example of test cases\n",
    "assert (\n",
    "    len(average_influenza_doses()) == 2\n",
    "), \"Return two values in a tuple, the first for yes and the second for no.\""
   ]
  },
  {
   "cell_type": "markdown",
   "metadata": {},
   "source": [
    "## Problem 2.3\n",
    "\n",
    "It would be interesting to see if there is any evidence of a link between _vaccine effectiveness_ and _sex of the child_. Calculate the _ratio of the number of children_ who contracted __chickenpox__ but _were vaccinated against it_ (at least one varicella dose) versus those who were vaccinated but did not contract _chicken pox_. Return results by _sex_.\n",
    "\n",
    "This _function_ should return a __dictionary__ in the form of (use the _correct numbers_):\n",
    "\n",
    "```python\n",
    "{\n",
    "    \"male\":0.2,\n",
    "    \"female\":0.4\n",
    "}\n",
    "```\n",
    "\n",
    "_Note:_ To aid in verification, the `chickenpox_by_sex()['female']` value the autograder is looking for starts with the digits `0.0077`.\n"
   ]
  },
  {
   "cell_type": "code",
   "execution_count": 28,
   "metadata": {},
   "outputs": [
    {
     "name": "stdout",
     "output_type": "stream",
     "text": [
      "{'male': 0.009675583380762664, 'female': 0.0077918259335489565}\n"
     ]
    }
   ],
   "source": [
    "import pandas as pd\n",
    "def chickenpox_by_sex() -> dict:\n",
    "    \"\"\"\n",
    "    Calculates the ratio of the number of children who contracted chickenpox but were vaccinated \n",
    "    against it versus those who were vaccinated but did not contract chickenpox, by sex.\n",
    "\n",
    "    Returns:\n",
    "        A dictionary with the ratio for male and female children.\n",
    "    \"\"\"\n",
    "\n",
    "    stats = {}\n",
    "\n",
    "    # YOUR CODE HERE\n",
    "    df = pd.read_csv(\"assets/NISPUF17.csv\")\n",
    "    vaccinated = df[df['P_NUMVRC'] >= 1]\n",
    "\n",
    "    # Males\n",
    "    male_vaccinated = vaccinated[vaccinated['SEX'] == 1]\n",
    "    male_had_cpox = male_vaccinated[male_vaccinated['HAD_CPOX'] == 1].shape[0]\n",
    "    male_not_had_cpox = male_vaccinated[male_vaccinated['HAD_CPOX'] == 2].shape[0]\n",
    "    male_ratio = male_had_cpox / male_not_had_cpox if male_not_had_cpox != 0 else 0\n",
    "\n",
    "    # Females\n",
    "    female_vaccinated = vaccinated[vaccinated['SEX'] == 2]\n",
    "    female_had_cpox = female_vaccinated[female_vaccinated['HAD_CPOX'] == 1].shape[0]\n",
    "    female_not_had_cpox = female_vaccinated[female_vaccinated['HAD_CPOX'] == 2].shape[0]\n",
    "    female_ratio = female_had_cpox / female_not_had_cpox if female_not_had_cpox != 0 else 0\n",
    "\n",
    "    stats = {\n",
    "        \"male\": male_ratio,\n",
    "        \"female\": female_ratio\n",
    "    }\n",
    "\n",
    "    return stats\n",
    "\n",
    "print(chickenpox_by_sex())"
   ]
  },
  {
   "cell_type": "markdown",
   "metadata": {},
   "source": [
    "## Problem 2.4\n",
    "\n",
    "A __correlation__ is a _statistical relationship_ between two variables. If we wanted to know _if vaccines work_, we might look at the correlation between the use of the vaccine and whether it results in prevention of the infection or disease. In this task, you are to see if there is a correlation between _having had the chicken pox_ and the _number of chickenpox vaccine doses given_ (varicella).\n",
    "\n",
    "Some notes on interpreting the answer. The `had_chickenpox_column` is either $1$ (for _yes_) or $2$ (for _no_), and the `num_chickenpox_vaccine_column` is the number of doses a child has been given of the varicella vaccine. A _positive correlation_ (e.g., $corr > 0$) means that an increase in _had\\_chickenpox\\_column_ (which means more _no_’s) would also increase the values of _num\\_chickenpox\\_vaccine\\_column_ (which means _more doses of vaccine_). If there is a _negative correlation_ (e.g., $corr < 0$), it indicates that having had chickenpox is related to an increase in the number of vaccine doses.\n",
    "\n",
    "Also, $pval$ is the probability that we observe a correlation between _had\\_chickenpox\\_column_ and _num\\_chickenpox\\_vaccine\\_column_ which is greater than or equal to a particular value occurred by chance. A _small pval_ means that the observed correlation is highly unlikely to occur by chance. In this case, _pval_ should be very small (will end in $e-18$ indicating a very small number)."
   ]
  },
  {
   "cell_type": "code",
   "execution_count": 38,
   "metadata": {},
   "outputs": [
    {
     "name": "stdout",
     "output_type": "stream",
     "text": [
      "2.7780263183463457e-18\n",
      "0.07044873460147985\n"
     ]
    }
   ],
   "source": [
    "import scipy.stats as stats\n",
    "import numpy as np\n",
    "import pandas as pd\n",
    "\n",
    "\n",
    "def corr_chickenpox() -> float:\n",
    "    \"\"\"\n",
    "    Calculate the correlation between having had chickenpox and the number of chickenpox vaccine doses given.\n",
    "\n",
    "    Returns:\n",
    "        A float number which is the correlation coefficient.\n",
    "    \"\"\"\n",
    "\n",
    "    # this is just an example dataframe\n",
    "    df = pd.DataFrame(\n",
    "        {\n",
    "            \"had_chickenpox_column\": np.random.randint(1, 3, size=(100)),\n",
    "            \"num_chickenpox_vaccine_column\": np.random.randint(0, 6, size=(100)),\n",
    "        }\n",
    "    )\n",
    "\n",
    "    # here is some stub code to actually run the correlation\n",
    "    corr, pval = stats.pearsonr(\n",
    "        df[\"had_chickenpox_column\"], df[\"num_chickenpox_vaccine_column\"]\n",
    "    )\n",
    "\n",
    "    # YOUR CODE HERE\n",
    "    df = pd.read_csv(\"assets/NISPUF17.csv\")\n",
    "\n",
    "    df = df[['HAD_CPOX', 'P_NUMVRC']].dropna()\n",
    "    df = df[(df['HAD_CPOX'] == 1) | (df['HAD_CPOX'] == 2)]  # There are some values that are not 1 or 2\n",
    "\n",
    "    df = df.rename(columns={'HAD_CPOX': 'had_chickenpox_column', 'P_NUMVRC': 'num_chickenpox_vaccine_column'})\n",
    "\n",
    "    # Correlation and Pval\n",
    "    corr, pval = stats.pearsonr(df['had_chickenpox_column'], df['num_chickenpox_vaccine_column'])\n",
    "    print(pval)\n",
    "    print(corr)\n",
    "\n",
    "    return corr\n",
    "\n",
    "correlation = corr_chickenpox()"
   ]
  },
  {
   "cell_type": "code",
   "execution_count": 36,
   "metadata": {},
   "outputs": [
    {
     "name": "stdout",
     "output_type": "stream",
     "text": [
      "2.7780263183463457e-18\n",
      "0.07044873460147985\n"
     ]
    }
   ],
   "source": [
    "# example of test cases\n",
    "assert (\n",
    "    -1 <= corr_chickenpox() <= 1\n",
    "), \"You must return a float number between -1.0 and 1.0.\""
   ]
  }
 ],
 "metadata": {
  "kernelspec": {
   "display_name": "entorno",
   "language": "python",
   "name": "entorno"
  },
  "language_info": {
   "codemirror_mode": {
    "name": "ipython",
    "version": 3
   },
   "file_extension": ".py",
   "mimetype": "text/x-python",
   "name": "python",
   "nbconvert_exporter": "python",
   "pygments_lexer": "ipython3",
   "version": "3.11.9"
  }
 },
 "nbformat": 4,
 "nbformat_minor": 2
}
