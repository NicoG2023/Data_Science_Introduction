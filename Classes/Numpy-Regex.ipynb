{
 "cells": [
  {
   "cell_type": "markdown",
   "metadata": {},
   "source": [
    "# Numpy\n",
    "\n",
    "__Numpy__ is a _Python package_ that stands for ___Numerical Python___. It is a _library_ for the _Python_ programming language, adding support for large, _multi-dimensional arrays_ and _matrices_, along with a _large collection_ of high-level mathematical functions to operate on these _arrays_.\n",
    "\n",
    "__Numpy__ provides a powerful _N-dimensional_ array object, useful for performing mathematical and logical operations on arrays. It also has _functions_ for working in domain of _linear algebra_, _Fourier transform_, and _matrices_.\n",
    "\n",
    "By importing `numpy as np`, we can access all the functions and methods provided by the _numpy_ package using the `np` alias."
   ]
  },
  {
   "cell_type": "code",
   "execution_count": 4,
   "metadata": {},
   "outputs": [
    {
     "name": "stdout",
     "output_type": "stream",
     "text": [
      "Part 1: [1 2 3 4 5 6 7 8 6 4 3 2 1 1 2 7 8] <class 'numpy.ndarray'>\n",
      "------------------------------\n",
      "Part 2: [10 12 14 16 18 20 22 24 26 28 30 32 34 36 38 40 42 44 46 48 50] <class 'numpy.ndarray'>\n",
      "Part 2: [10 12 14 16 18 20 22 24 26 28 30 32 34 36 38 40 42 44 46 48 50] <class 'numpy.ndarray'>\n",
      "------------------------------\n",
      "Part 3: [0.         0.04166667 0.08333333 0.125      0.16666667 0.20833333\n",
      " 0.25       0.29166667 0.33333333 0.375      0.41666667 0.45833333\n",
      " 0.5        0.54166667 0.58333333 0.625      0.66666667 0.70833333\n",
      " 0.75       0.79166667 0.83333333 0.875      0.91666667 0.95833333\n",
      " 1.        ]\n",
      "------------------------------\n",
      "Part 4:\n",
      " [[0. 0. 0. 0.]\n",
      " [0. 0. 0. 0.]\n",
      " [0. 0. 0. 0.]]\n",
      "Part 4.1:\n",
      " [[1. 1. 1.]\n",
      " [1. 1. 1.]\n",
      " [1. 1. 1.]]\n",
      "------------------------------\n",
      "DATA TYPES\n",
      "int64\n",
      "float64\n",
      "float64\n"
     ]
    }
   ],
   "source": [
    "#seleccionar kernel entorno\n",
    "import numpy as np\n",
    "# create an array\n",
    "array_1 = np.array([1,2,3,4,5,6,7,8,6,4,3,2,1,1,2,7,8])\n",
    "print('Part 1:', array_1, type(array_1))\n",
    "print('-'*30)\n",
    "# create an array with range\n",
    "array = np.array(range(10,51,2))\n",
    "print('Part 2:', array, type(array))\n",
    "\n",
    "array = np.arange(10,51,2)\n",
    "print('Part 2:', array, type(array))\n",
    "print('-'*30)\n",
    "# create an array with linspace\n",
    "array = np.linspace(0,1,25)\n",
    "print('Part 3:', array)\n",
    "print('-'*30)\n",
    "# create a matrix of zeros\n",
    "zeros = np.zeros((3,4))\n",
    "print('Part 4:\\n', zeros)\n",
    "ones = np.ones((3,3))\n",
    "print('Part 4.1:\\n', ones)\n",
    "print('-'*30)\n",
    "# get array data type\n",
    "print('DATA TYPES')\n",
    "print(array_1.dtype)\n",
    "print(array.dtype)\n",
    "print(zeros.dtype)"
   ]
  },
  {
   "cell_type": "code",
   "execution_count": 28,
   "metadata": {},
   "outputs": [
    {
     "name": "stdout",
     "output_type": "stream",
     "text": [
      "Part 1: (11,)\n",
      "------------------------------\n",
      "Part 2: (3, 4)\n",
      "------------------------------\n",
      "Part 3: 1\n",
      "------------------------------\n",
      "Part 4: 2\n"
     ]
    }
   ],
   "source": [
    "# get shape of array\n",
    "print('Part 1:',array.shape)\n",
    "print('-'*30)\n",
    "# get shape of matrix\n",
    "print('Part 2:', zeros.shape)\n",
    "print('-'*30)\n",
    "# get number of dimensions of array\n",
    "print('Part 3:',array.ndim)\n",
    "print('-'*30)\n",
    "# get number of dimensions of matrix\n",
    "print('Part 4:', zeros.ndim)"
   ]
  },
  {
   "cell_type": "code",
   "execution_count": 33,
   "metadata": {},
   "outputs": [
    {
     "name": "stdout",
     "output_type": "stream",
     "text": [
      "Part 1: 11 <class 'int'>\n",
      "------------------------------\n",
      "Part 2: 0.4\n",
      "Part 2.1: 0.0\n"
     ]
    }
   ],
   "source": [
    "# get number of elements in array\n",
    "length = array.size\n",
    "print('Part 1:',length, type(length))\n",
    "print('-'*30)\n",
    "# get element by index\n",
    "element_array = array[4]\n",
    "print('Part 2:', element_array)\n",
    "element_matrix = zeros[1,2]\n",
    "print('Part 2.1:',element_matrix)"
   ]
  },
  {
   "cell_type": "code",
   "execution_count": 43,
   "metadata": {},
   "outputs": [
    {
     "name": "stdout",
     "output_type": "stream",
     "text": [
      "Sum: 12.5\n",
      "Mean: 0.5\n",
      "Standard Deviation: 0.3004626062886657\n",
      "Variance: 0.09027777777777776\n",
      "Minimum: 0.0\n",
      "Maximum: 1.0\n"
     ]
    }
   ],
   "source": [
    "# descriptive statistics\n",
    "# get sum of array\n",
    "sum = array.sum()\n",
    "print('Sum:',sum)\n",
    "\n",
    "# get mean of array\n",
    "mean = array.mean()\n",
    "print('Mean:',mean)\n",
    "\n",
    "# get standard deviation of array\n",
    "standard_deviation = array.std()\n",
    "print('Standard Deviation:',standard_deviation)\n",
    "\n",
    "# get variance of array\n",
    "variance = array.var()\n",
    "print('Variance:',variance)\n",
    "\n",
    "# get min of array\n",
    "min = array.min()\n",
    "print('Minimum:',min)\n",
    "\n",
    "# get max of array\n",
    "max = array.max()\n",
    "print('Maximum:',max)"
   ]
  },
  {
   "cell_type": "code",
   "execution_count": 47,
   "metadata": {},
   "outputs": [
    {
     "name": "stdout",
     "output_type": "stream",
     "text": [
      "Matrix:\n",
      " [[1 2 3]\n",
      " [4 5 6]\n",
      " [7 8 9]]\n",
      "Slice:\n",
      " [[2 3]\n",
      " [5 6]]\n"
     ]
    }
   ],
   "source": [
    "# slice a matrix\n",
    "matrix = np.array([[1,2,3],[4,5,6],[7,8,9]])\n",
    "print('Matrix:\\n',matrix)\n",
    "\n",
    "slice = matrix[:2,1:]\n",
    "print('Slice:\\n',slice)\n",
    "\n",
    "# is the slice by reference or by value?\n"
   ]
  },
  {
   "cell_type": "markdown",
   "metadata": {},
   "source": [
    "## Linear Algebra with Numpy\n",
    "\n",
    "_Numpy_ is a powerful _Python_ package that provides support for _linear algebra_ operations. It allows us to perform various mathematical operations on _arrays_ and _matrices_ efficiently.\n",
    "\n",
    "With __Numpy__, we can easily solve _linear algebra_ problems such as finding solutions to systems of linear equations, calculating matrix determinants, eigenvalues, eigenvectors, and much more."
   ]
  },
  {
   "cell_type": "markdown",
   "metadata": {},
   "source": [
    "# "
   ]
  },
  {
   "cell_type": "code",
   "execution_count": 55,
   "metadata": {},
   "outputs": [
    {
     "name": "stdout",
     "output_type": "stream",
     "text": [
      "Solution: [-0.2  1.8]\n"
     ]
    }
   ],
   "source": [
    "# solve a system of linear equations\n",
    "equations = np.array([[2,3],[3,7]])\n",
    "answers = np.array([5,12])\n",
    "solution = np.linalg.solve(equations,answers)\n",
    "print('Solution:',solution)"
   ]
  },
  {
   "cell_type": "code",
   "execution_count": 59,
   "metadata": {},
   "outputs": [
    {
     "name": "stdout",
     "output_type": "stream",
     "text": [
      "Inverse: [[ 1.4 -0.6]\n",
      " [-0.6  0.4]]\n"
     ]
    }
   ],
   "source": [
    "# get the inverse of a matrix\n",
    "inv = np.linalg.inv(equations)\n",
    "print('Inverse:',inv)\n"
   ]
  },
  {
   "cell_type": "code",
   "execution_count": 58,
   "metadata": {},
   "outputs": [
    {
     "name": "stdout",
     "output_type": "stream",
     "text": [
      "Determinant: 5.0\n"
     ]
    }
   ],
   "source": [
    "# get the determinant of a matrix\n",
    "det = np.linalg.det(equations)\n",
    "print('Determinant:',np.round(det))"
   ]
  },
  {
   "cell_type": "code",
   "execution_count": 60,
   "metadata": {},
   "outputs": [
    {
     "name": "stdout",
     "output_type": "stream",
     "text": [
      "Dot: 32\n"
     ]
    }
   ],
   "source": [
    "# get the dot product of two arrays\n",
    "array_2 = np.array([1,2,3])\n",
    "array_3 = np.array([4,5,6])\n",
    "print('Dot:', np.dot(array_2,array_3))"
   ]
  },
  {
   "cell_type": "code",
   "execution_count": 61,
   "metadata": {},
   "outputs": [
    {
     "name": "stdout",
     "output_type": "stream",
     "text": [
      "Cross: [-3  6 -3]\n"
     ]
    }
   ],
   "source": [
    "# get the cross product of two arrays\n",
    "#Cross = [2*6-3*5 3*4-1*6 1*5-2*4]\n",
    "print('Cross:',np.cross(array_2,array_3))"
   ]
  },
  {
   "cell_type": "code",
   "execution_count": 62,
   "metadata": {},
   "outputs": [
    {
     "name": "stdout",
     "output_type": "stream",
     "text": [
      "Norm: 3.7416573867739413\n"
     ]
    }
   ],
   "source": [
    "# get the norm of an array\n",
    "print('Norm:',np.linalg.norm(array_2))"
   ]
  },
  {
   "cell_type": "code",
   "execution_count": 67,
   "metadata": {},
   "outputs": [
    {
     "name": "stdout",
     "output_type": "stream",
     "text": [
      "Eigenvalues: [0.59487516 8.40512484]\n",
      "Eigenvector: [[-0.90558942 -0.4241554 ]\n",
      " [ 0.4241554  -0.90558942]]\n"
     ]
    }
   ],
   "source": [
    "# get the eigenvalues and eigenvectors of a matrix\n",
    "eigenvalues, eigenvectors = np.linalg.eig(equations)\n",
    "print('Eigenvalues:', eigenvalues)\n",
    "print('Eigenvector:',eigenvectors)"
   ]
  },
  {
   "cell_type": "markdown",
   "metadata": {},
   "source": [
    "## Vectorization\n",
    "\n",
    "__Vectorization__ is a technique in computer programming that allows us to perform operations on _entire arrays or matrices_ instead of looping through each element individually. This approach leverages the power of optimized, low-level operations provided by libraries like __NumPy__.\n",
    "\n",
    "By using _vectorized operations_, we can significantly improve the _performance_ of our code, as it takes advantage of parallel processing capabilities of modern _CPUs_. Instead of writing explicit loops, we can express our computations as _mathematical expressions_ on arrays, making our code more concise and readable.\n",
    "\n",
    "For example, instead of iterating over each element of an array to calculate the square root, we can simply apply the `np.sqrt()` function to the _entire array_. This not only simplifies the code but also improves its efficiency.\n",
    "\n",
    "In addition to arithmetic operations, __vectorization__ also enables us to perform logical operations, mathematical functions, and other operations on arrays and matrices. This makes it a powerful tool for _scientific computing_, _data analysis_, and _machine learning_ tasks.\n",
    "\n",
    "Overall, __vectorization__ is a fundamental concept in array programming that allows us to write efficient and concise code by operating on entire arrays or matrices at once. It is a key technique to leverage the full potential of libraries like __NumPy__ and optimize our computations."
   ]
  },
  {
   "cell_type": "code",
   "execution_count": 2,
   "metadata": {},
   "outputs": [],
   "source": [
    "import memory_profiler\n",
    "import time\n",
    "\n",
    "# decorator to time a function\n",
    "def time_function(func):\n",
    "    def wrapper(*args, **kwargs):\n",
    "        start = time.time()\n",
    "        result = func(*args, **kwargs)\n",
    "        end = time.time()\n",
    "        print(f\"Time taken: {end - start}\")\n",
    "        return result\n",
    "    return wrapper\n",
    "\n",
    "# decorator to get memory usage of a function\n",
    "def memory_function(func):\n",
    "    def wrapper(*args, **kwargs):\n",
    "        result = memory_profiler.memory_usage((func, args, kwargs))\n",
    "        print(f\"Memory used: {result[0]}\")\n",
    "        return result\n",
    "    return wrapper"
   ]
  },
  {
   "cell_type": "code",
   "execution_count": 75,
   "metadata": {},
   "outputs": [
    {
     "name": "stdout",
     "output_type": "stream",
     "text": [
      "Shape: (10000, 10000)\n",
      "Vectorized\n",
      "Memory used: 1628.77734375\n",
      "Time taken: 2.09902024269104\n",
      "Loop\n",
      "Memory used: 1628.77734375\n",
      "Time taken: 149.53760838508606\n"
     ]
    }
   ],
   "source": [
    "# calculare the square root of a matrix with vertorization\n",
    "@time_function\n",
    "@memory_function\n",
    "def sqrt_vectorized(matrix):\n",
    "    return np.sqrt(matrix)\n",
    "\n",
    "# calculate the square root of a matrix with a loop\n",
    "@time_function\n",
    "@memory_function\n",
    "def sqrt_loop(matrix):\n",
    "    result = np.zeros_like(matrix)\n",
    "    for i in range(matrix.shape[0]):\n",
    "        for j in range(matrix.shape[1]):\n",
    "            result[i,j] = np.sqrt(matrix[i,j])\n",
    "\n",
    "    return result\n",
    "\n",
    "#-------Test----------\n",
    "size = 10000\n",
    "matrix = np.random.rand(size,size)\n",
    "#print('Matrix\\n',matrix)\n",
    "print('Shape:', matrix.shape)\n",
    "print('Vectorized')\n",
    "t = sqrt_vectorized(matrix.copy())\n",
    "print('Loop')\n",
    "t = sqrt_loop(matrix.copy())"
   ]
  },
  {
   "cell_type": "code",
   "execution_count": 11,
   "metadata": {},
   "outputs": [
    {
     "name": "stdout",
     "output_type": "stream",
     "text": [
      "Shape: (100000000,) (100000000,)\n",
      "Vectorized\n",
      "Memory used: 3583.96484375\n",
      "Time taken: 2.352979898452759\n",
      "Loops\n",
      "Memory used: 3584.5\n",
      "Time taken: 36.995707273483276\n"
     ]
    }
   ],
   "source": [
    "# calculate the sum of two arrays witn vectorization\n",
    "@time_function\n",
    "@memory_function\n",
    "def sum_vectorized(array_1:np.array,array_2:np.array):\n",
    "    return array_1 + array_2\n",
    "\n",
    "\n",
    "# calculate the sum of two arrays with a loop\n",
    "@time_function\n",
    "@memory_function\n",
    "def sum_loops(array_1, array_2):\n",
    "    result = np.zeros_like(array_1)\n",
    "    for i in range(array_1.size):\n",
    "        result[i] = array_1[i] + array_2[i]\n",
    "    return result\n",
    "#-----------Test------------\n",
    "size = 100000000\n",
    "array_1 = np.random.rand(size)\n",
    "array_2 = np.random.rand(size)\n",
    "print('Shape:',array_1.shape, array_2.shape)\n",
    "print('Vectorized')\n",
    "t = sum_vectorized(array_1, array_2)\n",
    "print('Loops')\n",
    "t = sum_loops(array_1, array_2)"
   ]
  },
  {
   "cell_type": "code",
   "execution_count": 14,
   "metadata": {},
   "outputs": [
    {
     "name": "stdout",
     "output_type": "stream",
     "text": [
      "Shape: (100000000,)  --Scalar: 6\n",
      "Vectorized\n",
      "Memory used: 3390.45703125\n",
      "Time taken: 1.837761402130127\n",
      "Loops\n",
      "Memory used: 3390.46484375\n",
      "Time taken: 30.74987769126892\n"
     ]
    }
   ],
   "source": [
    "# calculate broadcasted multiplication of and array and a scalar with vectorization\n",
    "@time_function\n",
    "@memory_function\n",
    "def broadcasted_vectorized(array:np.array, scalar:int):\n",
    "    return array * scalar\n",
    "# calculate broadcasted multiplication of and array and a scalar with a loop\n",
    "@time_function\n",
    "@memory_function\n",
    "def broadcasted_loop(array:np.array, scalar:int):\n",
    "    result = np.zeros_like(array)\n",
    "    for i in range(array.size):\n",
    "        result[i] = array[i] * scalar\n",
    "    return result\n",
    "\n",
    "#-------Test-------\n",
    "size = 100000000\n",
    "array = np.random.rand(size)\n",
    "scalar = np.random.randint(1,10)\n",
    "print('Shape:', array.shape, \" --Scalar:\",scalar)\n",
    "print('Vectorized')\n",
    "t = broadcasted_vectorized(array,scalar)\n",
    "print('Loops')\n",
    "t = broadcasted_loop(array,scalar)"
   ]
  },
  {
   "cell_type": "code",
   "execution_count": 16,
   "metadata": {},
   "outputs": [
    {
     "name": "stdout",
     "output_type": "stream",
     "text": [
      "Vectorized\n",
      "Memory used: 2751.22265625\n",
      "Time taken: 4.861858367919922\n",
      "Lambda:\n",
      "Memory used: 2751.22265625\n",
      "Time taken: 28.365644931793213\n",
      "Loop\n",
      "Memory used: 2751.22265625\n",
      "Time taken: 23.659568309783936\n"
     ]
    }
   ],
   "source": [
    "# filter an array with a loop\n",
    "@time_function\n",
    "@memory_function\n",
    "def is_even_vectorized(array):\n",
    "    return array[array % 2 == 0] #boolean mask, when true, the value passes, when false, the values does not pass\n",
    "\n",
    "# filter an array with a lambda function\n",
    "@time_function\n",
    "@memory_function\n",
    "def is_even_lambda(array):\n",
    "    return list(filter(lambda x: x%2==0, array))\n",
    "\n",
    "#loops\n",
    "@time_function\n",
    "@memory_function\n",
    "def is_even_loop(array):\n",
    "    result = []\n",
    "    for x in array:\n",
    "        if x % 2 == 0:\n",
    "            result.append(x)\n",
    "    return result\n",
    "\n",
    "#----------Test-------------\n",
    "size = 100000000\n",
    "array = np.random.rand(size)\n",
    "print('Vectorized')\n",
    "t = is_even_vectorized(array)\n",
    "print('Lambda:')\n",
    "t = is_even_lambda(array)\n",
    "print('Loop')\n",
    "t = is_even_loop(array)"
   ]
  },
  {
   "cell_type": "markdown",
   "metadata": {},
   "source": [
    "# Strings\n",
    "\n",
    "A __string__ is a _sequence of characters_ enclosed in single quotes ( `''`) or double quotes (`\"\"`).\n",
    "\n",
    "In __Python__, strings are _immutable_, which means they cannot be changed once created.\n",
    "\n",
    "__Strings__ can be _concatenated_ using the `+` operator, and _repeated_ using the `*` operator.\n",
    "\n",
    "Various _string_ methods are available to perform operations like finding the _length_, _converting case_, _splitting_, and _joining_ strings."
   ]
  },
  {
   "cell_type": "code",
   "execution_count": 17,
   "metadata": {},
   "outputs": [
    {
     "name": "stdout",
     "output_type": "stream",
     "text": [
      "NOT Equal\n",
      "hello Less than ud\n"
     ]
    }
   ],
   "source": [
    "# compare strings using conditionals\n",
    "s_1 = 'hello'\n",
    "s_2 = 'ud'\n",
    "if s_1 == s_2:\n",
    "    print('Equal')\n",
    "if s_1 != s_2:\n",
    "    print('NOT Equal')\n",
    "if s_1 < s_2:\n",
    "    print(s_1, 'Less than', s_2)"
   ]
  },
  {
   "cell_type": "code",
   "execution_count": 20,
   "metadata": {},
   "outputs": [
    {
     "name": "stdout",
     "output_type": "stream",
     "text": [
      "Substring found.\n"
     ]
    }
   ],
   "source": [
    "# check if a substring is in a string\n",
    "sub = 'ell'\n",
    "if sub in s_1:\n",
    "    print('Substring found.')\n",
    "else:\n",
    "    print('NOT FOUND.')"
   ]
  },
  {
   "cell_type": "code",
   "execution_count": 21,
   "metadata": {},
   "outputs": [
    {
     "name": "stdout",
     "output_type": "stream",
     "text": [
      "h\n",
      "e\n",
      "l\n",
      "l\n",
      "o\n"
     ]
    }
   ],
   "source": [
    "# traverse a string with a loop\n",
    "for character in s_1:\n",
    "    print(character)"
   ]
  },
  {
   "cell_type": "code",
   "execution_count": 26,
   "metadata": {},
   "outputs": [
    {
     "name": "stdout",
     "output_type": "stream",
     "text": [
      "Length of a string\n",
      "5\n",
      "Strings Concatenated\n",
      "helloud\n",
      "udhello\n",
      "hello ud\n",
      "String repeated\n",
      "hellohellohellohellohellohellohellohellohellohello\n"
     ]
    }
   ],
   "source": [
    "# get length of a string\n",
    "print('Length of a string')\n",
    "print(len(s_1))\n",
    "\n",
    "# concatenate strings\n",
    "print('Strings Concatenated')\n",
    "print(s_1 + s_2)\n",
    "print(s_2 + s_1)\n",
    "print(s_1 + \" \" + s_2)\n",
    "\n",
    "# repeat a string\n",
    "print('String repeated')\n",
    "print(s_1*10)"
   ]
  },
  {
   "cell_type": "code",
   "execution_count": 28,
   "metadata": {},
   "outputs": [
    {
     "name": "stdout",
     "output_type": "stream",
     "text": [
      "Que le pasa a Lupita?\n",
      "Que le pasa a Lupita?\n"
     ]
    }
   ],
   "source": [
    "name = 'Lupita'\n",
    "# format using format method\n",
    "print('Que le pasa a {}?'.format(name))\n",
    "\n",
    "# format using f-strings\n",
    "print(f'Que le pasa a {name}?')"
   ]
  },
  {
   "cell_type": "code",
   "execution_count": 34,
   "metadata": {},
   "outputs": [
    {
     "name": "stdout",
     "output_type": "stream",
     "text": [
      "['Nico', 'Jorge', 'Ana', 'Ricardo', 'Muller', 'Messi', 'Gerd', 'Gerard']\n",
      "Nico, Jorge, Ana, Ricardo, Muller, Messi, Gerd, Gerard\n"
     ]
    }
   ],
   "source": [
    "# split a string\n",
    "name = 'Nico Jorge Ana Ricardo Muller Messi Gerd Gerard'\n",
    "splitted_name = name.split(' ')\n",
    "print(splitted_name)\n",
    "\n",
    "# join a list of strings\n",
    "joined_names = ', '.join(splitted_name)\n",
    "print(joined_names)"
   ]
  },
  {
   "cell_type": "code",
   "execution_count": 40,
   "metadata": {},
   "outputs": [
    {
     "name": "stdout",
     "output_type": "stream",
     "text": [
      "Replace: NiGODco, Jorge, Ana, RiGODcardo, Muller, MessiGOD, Gerd, Gerard\n",
      "hellohellohello\n",
      "Index: 1\n",
      "Count a: 3\n",
      "Count M: 2\n",
      "Lower case: nico, jorge, ana, ricardo, muller, messi, gerd, gerard\n",
      "Upper Cases: NICO, JORGE, ANA, RICARDO, MULLER, MESSI, GERD, GERARD\n",
      "Title Cases: Nico, Jorge, Ana, Ricardo, Muller, Messi, Gerd, Gerard\n",
      "Swap Cases: nICO, jORGE, aNA, rICARDO, mULLER, mESSI, gERD, gERARD\n"
     ]
    }
   ],
   "source": [
    "# replace a substring\n",
    "print('Replace:', joined_names.replace('i','iGOD'))\n",
    "\n",
    "\n",
    "# find the index of a substring\n",
    "s_3 = s_1 * 3\n",
    "print(s_3)\n",
    "print('Index:', s_3.find('el'))\n",
    "\n",
    "# count occurrences of a substring\n",
    "print('Count a:', joined_names.count('a'))\n",
    "print('Count M:', joined_names.count('M'))\n",
    "\n",
    "#Cases\n",
    "print('Lower case:', joined_names.lower())\n",
    "print('Upper Cases:', joined_names.upper())\n",
    "print('Title Cases:', joined_names.title())\n",
    "print('Swap Cases:', joined_names.swapcase())"
   ]
  },
  {
   "cell_type": "markdown",
   "metadata": {},
   "source": [
    "# DateTimes\n",
    "\n",
    "__Datetimes__ in _Python_ are objects that represent _dates_ and _times_. They are used to perform various operations related to dates and times, such as _calculating time differences_, _formatting dates_, and _parsing strings_ into datetime objects.\n"
   ]
  },
  {
   "cell_type": "code",
   "execution_count": 57,
   "metadata": {},
   "outputs": [
    {
     "name": "stdout",
     "output_type": "stream",
     "text": [
      "Now: 2024-06-26 10:40:20.404327\n",
      "Date 1: 2016-06-09 00:00:00\n",
      "Time: 10:40:20.404327\n",
      "Now in Colombia: 2024-06-26 10:40:20.404327-05:00\n"
     ]
    }
   ],
   "source": [
    "from datetime import datetime as jueputaQueAburrimiento\n",
    "# Create a datetime object representing the current date and time\n",
    "current = jueputaQueAburrimiento.now()\n",
    "print('Now:',current)\n",
    "\n",
    "# Create a date object representing a specific date\n",
    "date_1 = jueputaQueAburrimiento(year=2016, month=6, day=9)\n",
    "print('Date 1:',date_1)\n",
    "\n",
    "# Create a time object representing a specific time\n",
    "print('Time:', jueputaQueAburrimiento.time(current))\n",
    "\n",
    "# Get the current datetime with a specific timezone\n",
    "from pytz import timezone\n",
    "colombia_tz = timezone('America/Bogota')\n",
    "current_colombia = jueputaQueAburrimiento.now(colombia_tz)\n",
    "print('Now in Colombia:', current_colombia)\n"
   ]
  },
  {
   "cell_type": "code",
   "execution_count": 53,
   "metadata": {},
   "outputs": [
    {
     "name": "stdout",
     "output_type": "stream",
     "text": [
      "Format y-m(letter)-d h-m-s: 2024-Jun-26 10-28-55\n",
      "Format d(letter), m(letter), d(num), y: Wednesday, Jun, 26\n",
      "Date 2: <class 'datetime.datetime'> 2023-02-21 00:00:00\n"
     ]
    }
   ],
   "source": [
    "# Use strftime to format a date and time\n",
    "print('Format y-m(letter)-d h-m-s:', current_colombia.strftime(\"%Y-%b-%d %H-%M-%S\"))\n",
    "print('Format d(letter), m(letter), d(num), y:', current_colombia.strftime(\"%A, %b, %d\"))\n",
    "\n",
    "# Use strptime to parse a date and time string\n",
    "date_string = \"2023-02-21\"\n",
    "date_2 = jueputaQueAburrimiento.strptime(date_string, \"%Y-%m-%d\")\n",
    "print('Date 2:', type(date_2), date_2)"
   ]
  },
  {
   "cell_type": "code",
   "execution_count": 58,
   "metadata": {},
   "outputs": [
    {
     "name": "stdout",
     "output_type": "stream",
     "text": [
      "Tomorrow: 2024-06-27 10:40:20.404327-05:00\n",
      "Yesterday: 2024-06-25 10:40:20.404327-05:00\n",
      "Deadline: 2024-06-26 11:40:20.404327-05:00\n"
     ]
    }
   ],
   "source": [
    "# Timedelta object representing the difference between two dates and times\n",
    "from datetime import timedelta\n",
    "print('Tomorrow:', current_colombia + timedelta(days=1))\n",
    "print('Yesterday:', current_colombia - timedelta(days=1))\n",
    "print('Deadline:', current_colombia + timedelta(minutes=60))"
   ]
  },
  {
   "cell_type": "markdown",
   "metadata": {},
   "source": [
    "# Regular Expressions\n",
    "\n",
    "__Regular expressions__, also known as __regex__, are powerful tools for _pattern matching_ and _text manipulation_ in Python. They allow you to search, match, and manipulate strings based on specific __patterns__.\n",
    "\n",
    "In _Python_, regular expressions are supported through the `re` module. This module provides functions and methods for working with regular expressions.\n",
    "\n",
    "To use __regular expressions__ in _Python_, you need to import the `re` module. Once imported, you can use various functions and methods provided by the module to perform operations such as _pattern matching_, _searching_, _replacing_, and _splitting strings_.\n",
    "\n",
    "__Regular expressions__ in _Python_ are defined using a combination of special characters and metacharacters that represent _patterns_. "
   ]
  },
  {
   "cell_type": "code",
   "execution_count": 62,
   "metadata": {},
   "outputs": [
    {
     "name": "stdout",
     "output_type": "stream",
     "text": [
      "Substring found\n",
      "Words: ['hello', 'world', 'ud', 'summer', 'vacations', 'sapo', 'salome']\n",
      "Words starting with s: ['summer', 'sapo', 'salome']\n"
     ]
    }
   ],
   "source": [
    "import re\n",
    "# use regex to find a substrings\n",
    "string = \"hello world, ud summer vacations sapo salome\"\n",
    "substring = \"world,\"\n",
    "if re.search(substring, string):\n",
    "    print('Substring found')\n",
    "else:\n",
    "    print('NOT FOUND.')\n",
    "\n",
    "# use regex to find all substrings\n",
    "words = re.findall(r'\\w+', string)\n",
    "print('Words:', words)\n",
    "\n",
    "words_s = re.findall(r'\\b[s]\\w+', string)\n",
    "print('Words starting with s:', words_s)"
   ]
  },
  {
   "cell_type": "code",
   "execution_count": null,
   "metadata": {},
   "outputs": [],
   "source": [
    "# use regex to find all words starting with a specific letter\n",
    "\n",
    "\n",
    "# use regex to find numbers in a string\n"
   ]
  },
  {
   "cell_type": "code",
   "execution_count": 66,
   "metadata": {},
   "outputs": [
    {
     "name": "stdout",
     "output_type": "stream",
     "text": [
      "Replace: hello world, Universidad Distrital summer vacations sapo salome\n",
      "Replace Numbers: Your ID is XX\n",
      "Words: ['Your ID is ', '']\n"
     ]
    }
   ],
   "source": [
    "string_num = \"Your ID is 89\"\n",
    "# use regex to replace a substring\n",
    "print('Replace:', re.sub(r'ud', \"Universidad Distrital\", string))\n",
    "print('Replace Numbers:', re.sub(r'\\d+', \"XX\", string_num))\n",
    "\n",
    "# use regex to split a string\n",
    "print('Words:', re.split(r'\\d+', string_num))"
   ]
  },
  {
   "cell_type": "code",
   "execution_count": 70,
   "metadata": {},
   "outputs": [
    {
     "name": "stdout",
     "output_type": "stream",
     "text": [
      "NOT FOUND\n",
      "Matchers: ['d', 'a', 'd', 'a', 'd', 'd', 'a', 'd', 'a', 'd', 'a', 'd', 'a', 'a']\n",
      "Matches: ['dj', 'dk', 'dj']\n"
     ]
    }
   ],
   "source": [
    "# use regex to match a string\n",
    "if re.match(r'^[ell]$', string):\n",
    "    print('Pattern FOUND')\n",
    "else:\n",
    "    print('NOT FOUND')\n",
    "\n",
    "# use regex to find all posibilities of a pattern\n",
    "string = 'skjdfadsjfkasjdjfjsdkfjlkasjfodjklj fjadsfkfkasj jdsakfjkasj'\n",
    "pattern = '[a-d]'\n",
    "print('Matchers:', re.findall(pattern,string))\n",
    "\n",
    "pattern = '[d][j-l]'\n",
    "print('Matches:', re.findall(pattern,string))\n"
   ]
  },
  {
   "cell_type": "code",
   "execution_count": 78,
   "metadata": {},
   "outputs": [
    {
     "name": "stdout",
     "output_type": "stream",
     "text": [
      "VALID EMAIL\n"
     ]
    }
   ],
   "source": [
    "# validate an email address\n",
    "email = 'test.a2_class@udistrital.edu.co'\n",
    "pattern = r'^[a-z][a-z0-9._]*@udistrital.edu.co$'\n",
    "if re.match(pattern, email):\n",
    "    print('VALID EMAIL')\n",
    "else:\n",
    "    print('INVALID')"
   ]
  }
 ],
 "metadata": {
  "kernelspec": {
   "display_name": "entorno",
   "language": "python",
   "name": "entorno"
  },
  "language_info": {
   "codemirror_mode": {
    "name": "ipython",
    "version": 3
   },
   "file_extension": ".py",
   "mimetype": "text/x-python",
   "name": "python",
   "nbconvert_exporter": "python",
   "pygments_lexer": "ipython3",
   "version": "3.11.9"
  }
 },
 "nbformat": 4,
 "nbformat_minor": 2
}
