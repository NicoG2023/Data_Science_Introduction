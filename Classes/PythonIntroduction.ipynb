{
 "cells": [
  {
   "cell_type": "markdown",
   "metadata": {},
   "source": [
    "# Python Introduction\n",
    "\n",
    "_Python_ is high-level, interpreted, weakly typed, multi-paradigm, and general purpose programming language.\n",
    "\n",
    "## Variables in Python\n",
    "\n",
    "In Python, __variables__ are used to _store_ data values. A __variable__ is created when a value is assigned to it using the _assignment operator_ (=). \n",
    "\n",
    "For example, to assign the value $10$ to a _variable_ named `x`, we can use the following code:\n",
    "\n",
    "```python\n",
    "x = 10\n",
    "```\n",
    "\n",
    "After the assignment, the _variable_ `x` will hold the value $10$, and we can use it in our code to perform operations or manipulate the data.\n",
    "\n",
    "__Variables__ in Python are _dynamically typed_, which means that the type of a variable is determined at _runtime_ based on the value assigned to it. This allows us to assign different types of values to the same variable.\n",
    "\n",
    "Python also supports _multiple assignment_, where we can assign values to multiple variables in a single line. For example:\n",
    "\n",
    "```python\n",
    "a, b, c = 1, 2, 3\n",
    "```\n",
    "\n",
    "In this case, the values $1$, $2$, and $3$ are assigned to _variables_ `a`, `b`, and `c` respectively.\n",
    "\n",
    "__Variables__ in Python are _case-sensitive_, which means that `x` and `X` are considered as _different_ variables.\n",
    "\n",
    "Overall, variables in Python are a fundamental concept that allows us to store and manipulate data in our programs.\n",
    "```\n",
    "```"
   ]
  },
  {
   "cell_type": "code",
   "execution_count": 9,
   "metadata": {},
   "outputs": [
    {
     "name": "stdout",
     "output_type": "stream",
     "text": [
      "<class 'int'>\n",
      "<class 'str'>\n",
      "<class 'float'>\n",
      "140726343660584\n",
      "2336603337328\n",
      "2336601365136\n"
     ]
    }
   ],
   "source": [
    "# create variables\n",
    "\n",
    "# get type(?)\n",
    "x = 9\n",
    "y = \"jhon\"\n",
    "z = 12.23\n",
    "print(type(x))\n",
    "print(type(y))\n",
    "print(type(z))\n",
    "# get memory reference\n",
    "\n",
    "print(id(x))\n",
    "print(id(y))\n",
    "print(id(z))\n"
   ]
  },
  {
   "cell_type": "markdown",
   "metadata": {},
   "source": [
    "## Conditionals\n",
    "\n",
    "Conditionals are used to make decisions in a program based on certain conditions.\n",
    "In _Python_, conditionals are implemented using `if`, `elif`, and `else` statements.\n",
    "\n",
    "- The `if` statement is used to check a condition and execute a block of code if the condition is __true__.\n",
    "- The `elif` statement is used to check additional conditions if the previous conditions are __false__.\n",
    "- The `else` statement is used to execute a block of code if none of the previous conditions are __true__.\n",
    "\n",
    "__Conditionals__ allow the program to take different paths based on the values of variables or the result of _comparisons_.\n",
    "They are essential for controlling the _flow of execution_ in a program and making it more dynamic and responsive."
   ]
  },
  {
   "cell_type": "code",
   "execution_count": 1,
   "metadata": {},
   "outputs": [
    {
     "name": "stdout",
     "output_type": "stream",
     "text": [
      "Se viene la segunda\n"
     ]
    }
   ],
   "source": [
    "# simple conditional\n",
    "Colombia = 'Ganador'\n",
    "if(Colombia == 'Ganador'):\n",
    "    print('Se viene la segunda')\n",
    "else:\n",
    "    print('NOOOOOOOOOOOOOOOOOOOO')"
   ]
  },
  {
   "cell_type": "code",
   "execution_count": 4,
   "metadata": {},
   "outputs": [
    {
     "name": "stdout",
     "output_type": "stream",
     "text": [
      "Se viene la segunda de Colombia\n",
      "hola como estas?\n",
      "A meat lasagna\n"
     ]
    }
   ],
   "source": [
    "# nested conditional\n",
    "x=1\n",
    "y=2\n",
    "z=3\n",
    "if(x == 1 and y == 3):\n",
    "    print('Cosa pa facil')\n",
    "elif(y == 2 or z == 3):\n",
    "    print('Se viene la segunda de Colombia')\n",
    "    if(z == 3 and x == 1 and y == 2):\n",
    "        print('hola como estas?')\n",
    "\n",
    "food = 'lasagna vag'\n",
    "if 'veg' in food:\n",
    "    if 'vegetarian' in food:\n",
    "        print('A vegetarian lasagna')\n",
    "    else:\n",
    "        print('A vegan lasagna')\n",
    "else:\n",
    "    print('A meat lasagna')"
   ]
  },
  {
   "cell_type": "code",
   "execution_count": 5,
   "metadata": {},
   "outputs": [
    {
     "name": "stdout",
     "output_type": "stream",
     "text": [
      "White chicks\n"
     ]
    }
   ],
   "source": [
    "# elif conditional\n",
    "movie = input()\n",
    "if movie == 'terror':\n",
    "    print('Friday 13th')\n",
    "elif movie == 'thriller':\n",
    "    print('Shutter Island')\n",
    "elif movie == 'comedy':\n",
    "    print('White chicks')\n",
    "elif movie == 'Animated':\n",
    "    print('Ratatouille')\n",
    "else:\n",
    "    print(\"Don't bother me\")"
   ]
  },
  {
   "cell_type": "markdown",
   "metadata": {},
   "source": [
    "## Loops and Range\n",
    "\n",
    "### Range\n",
    "\n",
    "The `range` _function_ in _Python_ generates a __sequence of numbers__ within a specified range. It is commonly used in for loops to iterate over a sequence of numbers. The `range` function can take up to _three arguments_: start, stop, and step. The `start` argument specifies the starting value of the sequence (default is $0$), the `stop` argument specifies the ending value (exclusive), and the `step` argument specifies the increment (default is $1$). The `range` _function_ returns an __iterable object__ that can be converted to a list or used directly in a loop.\n",
    "\n",
    "### Loops\n",
    "\n",
    "__Loops__ are control structures that allow us to repeat a block of code multiple times.\n",
    "In _Python_, there are two types of _loops_: the `for` loop and the `while` loop.\n",
    "\n",
    "- The `for` loop is used to iterate over a __sequence__ (such as a list, tuple, or string) or other iterable objects. It executes a block of code for _each item_ in the sequence. The loop variable takes on the value of each item in the sequence, _one by one_.\n",
    "- The `while` loop is used to repeatedly execute a block of code as long as a __certain condition__ is ___true___. It continues to execute the code until the condition becomes ___false___. \n",
    " \n",
    "Both types of loops can be used to automate repetitive tasks and make the code more efficient.\n",
    "\n"
   ]
  },
  {
   "cell_type": "code",
   "execution_count": 23,
   "metadata": {},
   "outputs": [
    {
     "name": "stdout",
     "output_type": "stream",
     "text": [
      "[0, 1, 2, 3, 4, 5, 6, 7, 8, 9]\n",
      "<class 'range'>\n",
      "[3, 4, 5, 6, 7, 8, 9, 10, 11, 12, 13, 14, 15, 16, 17, 18, 19, 20, 21, 22, 23, 24]\n",
      "Impares:  [1, 3, 5, 7, 9, 11, 13, 15, 17, 19, 21, 23, 25, 27, 29, 31, 33, 35, 37, 39, 41, 43, 45, 47, 49]\n",
      "Al reves ahora [4, 3, 2, 1]\n"
     ]
    }
   ],
   "source": [
    "# range just with stop\n",
    "values = range(10)\n",
    "print(list(values))\n",
    "print(type(values))\n",
    "# range with start and stop\n",
    "values = range(3,25)\n",
    "print(list(values))\n",
    "# range jumping by odd numbers\n",
    "values = range(1,50,2)\n",
    "print(\"Impares: \", list(values))\n",
    "# range making a countdown\n",
    "values = range(4,0,-1)\n",
    "print('Al reves ahora',list(values))"
   ]
  },
  {
   "cell_type": "code",
   "execution_count": null,
   "metadata": {},
   "outputs": [],
   "source": [
    "# while loop\n",
    "word = input()\n",
    "while word != 'exit':\n",
    "    print(word)\n",
    "    word = input()"
   ]
  },
  {
   "cell_type": "code",
   "execution_count": null,
   "metadata": {},
   "outputs": [],
   "source": [
    "# for loop \n",
    "for i in range(1,10,2):\n",
    "    print(i)"
   ]
  },
  {
   "cell_type": "code",
   "execution_count": null,
   "metadata": {},
   "outputs": [],
   "source": [
    "# while loop with brake\n",
    "x=0\n",
    "while True:\n",
    "    print('hola')\n",
    "    x = x+1\n",
    "    if(x == 10):\n",
    "        break\n",
    "\n",
    "while True:\n",
    "    on = input('Status:')\n",
    "    if on != 'on':\n",
    "        break"
   ]
  },
  {
   "cell_type": "code",
   "execution_count": null,
   "metadata": {},
   "outputs": [],
   "source": [
    "# while loop with continue \n",
    "while True:\n",
    "    on = input('Write Status')\n",
    "    if on == 'stand by':\n",
    "        continue\n",
    "    elif on == 'off':\n",
    "        break\n",
    "    print('Invalid Option')"
   ]
  },
  {
   "cell_type": "markdown",
   "metadata": {},
   "source": [
    "## Lists\n",
    "\n",
    "A `list` is a __collection__ of items that are _ordered_ and _changeable_.\n",
    "\n",
    "__Lists__ are defined by enclosing items in _square brackets_ [ ] and separating them with commas.\n",
    "\n",
    "__Lists__ can contain elements of _different data types_, such as integers, strings, or even other lists.\n",
    "\n",
    "__Lists__ in Python are _mutable_, meaning that you can modify the elements of a list after it is created.\n"
   ]
  },
  {
   "cell_type": "code",
   "execution_count": 4,
   "metadata": {},
   "outputs": [
    {
     "name": "stdout",
     "output_type": "stream",
     "text": [
      "Step 1 [1, 2.3, 'hola', 'skdfja', 3]\n",
      "Step 2 [1, 2.3, 'hola', 'skdfja', 3, True]\n",
      "Step 3 [1, 'agregado bro', 2.3, 'hola', 'skdfja', 3, True]\n"
     ]
    }
   ],
   "source": [
    "list_1 = [1,2.3,'hola','skdfja',3]\n",
    "print('Step 1', list_1)\n",
    "# adding using append\n",
    "list_1.append(True)\n",
    "print('Step 2', list_1)\n",
    "# addint using insert\n",
    "list_1.insert(1,'agregado bro')\n",
    "print('Step 3', list_1)"
   ]
  },
  {
   "cell_type": "code",
   "execution_count": null,
   "metadata": {},
   "outputs": [],
   "source": [
    "list_2 = [2,34.43, 'chao', 'Colombia is a winner', True]\n",
    "print('The List 1', list_2)\n",
    "# removing with remove\n",
    "list_2.remove(34.43)\n",
    "print('Remove 1', list_2)\n",
    "# removing with pop \n",
    "list_2.pop()\n",
    "print('Remove 2', list_2)\n",
    "# removing with pop by index\n",
    "list_2.pop(1)\n",
    "print('Final Remove',list_2)"
   ]
  },
  {
   "cell_type": "code",
   "execution_count": 17,
   "metadata": {},
   "outputs": [
    {
     "name": "stdout",
     "output_type": "stream",
     "text": [
      "The List [1, 2, 3, True, False, 'Hola', 'Chao', 0, 0]\n",
      "First Count 3\n",
      "Index of 3: 2\n",
      "Reversed List:  [0, 0, 'Chao', 'Hola', False, True, 3, 2, 1]\n"
     ]
    }
   ],
   "source": [
    "x=0\n",
    "list_3 = [1,2,3,True,False,'Hola','Chao',x,0]\n",
    "print('The List', list_3)\n",
    "# count elements\n",
    "print('First Count', list_3.count(0))\n",
    "# index of\n",
    "print('Index of 3:', list_3.index(3))\n",
    "# reverse\n",
    "list_3.reverse()\n",
    "print('Reversed List: ', list_3)"
   ]
  },
  {
   "cell_type": "code",
   "execution_count": 19,
   "metadata": {},
   "outputs": [
    {
     "name": "stdout",
     "output_type": "stream",
     "text": [
      "Lista 4: ['mi', 'Cambiaste algo bro', 'me', 'mima', 1, 2, 3.4, 2, True]\n",
      "Lista Copy: ['MAMASTE', 'mama', 'me', 'mima', 1, 2, 3.4, 2, True, 'sandwich', 'hamburguesa']\n",
      "Lista Original: ['mi', 'mama', 'me', 'mima', 1, 2, 3.4, 2, True, 'sandwich', 'hamburguesa']\n"
     ]
    }
   ],
   "source": [
    "# assignation by reference\n",
    "list_4 = ['mi','mama','me','mima',1,2,3.4,2,True]\n",
    "list_copyr = list_4\n",
    "list_copyr[1] = 'Cambiaste algo bro'\n",
    "print('Lista 4:', list_4)\n",
    "# assignation by value\n",
    "list_5 = ['mi','mama','me','mima',1,2,3.4,2,True,'sandwich','hamburguesa']\n",
    "list_copyv = list_5.copy()\n",
    "list_copyv[0] = 'MAMASTE'\n",
    "print('Lista Copy:',list_copyv)\n",
    "print('Lista Original:', list_5)"
   ]
  },
  {
   "cell_type": "code",
   "execution_count": 21,
   "metadata": {},
   "outputs": [
    {
     "name": "stdout",
     "output_type": "stream",
     "text": [
      "[['a', 'b', 'c'], [1, 2, 3]]\n",
      "List of lists\n",
      "d is not part of list a\n",
      "List Traversed\n",
      "['a', 'b', 'c']\n",
      "[1, 2, 3]\n"
     ]
    }
   ],
   "source": [
    "# a list of lists\n",
    "a = [['a','b','c'],[1,2,3]]\n",
    "print(a)\n",
    "# conditionals (postive) with lists\n",
    "if [1,2,3] in a:\n",
    "    print('List of lists')\n",
    "# conditinals (negative) with lists\n",
    "if 'd' not in a[1]:\n",
    "    print('d is not part of list a')\n",
    "# traversing the list\n",
    "print('List Traversed')\n",
    "for item in a:\n",
    "    print(item)"
   ]
  },
  {
   "cell_type": "code",
   "execution_count": 28,
   "metadata": {},
   "outputs": [
    {
     "name": "stdout",
     "output_type": "stream",
     "text": [
      "Original List ['a', 'b', 'c', 'd', 'e', 'f', 'g', 'h', 'i', 'j', 'k', 'l', 'm', 'n', 'o']\n",
      "index 6 until end: ['g', 'h', 'i', 'j', 'k', 'l', 'm', 'n', 'o']\n",
      "stop in index 9 ['a', 'b', 'c', 'd', 'e', 'f', 'g', 'h', 'i', 'j']\n",
      "start from index 3 and stop in index 9 ['d', 'e', 'f', 'g', 'h', 'i', 'j']\n",
      "Reversed slicing from index 14 until index 6: ['o', 'n', 'm', 'l', 'k', 'j', 'i', 'h', 'g']\n"
     ]
    }
   ],
   "source": [
    "b = list('abcdefghijklmno')\n",
    "print('Original List',b)\n",
    "#Slicing with start\n",
    "print('index 6 until end:', b[6::])\n",
    "#Slicing with stop\n",
    "print('stop in index 9', b[:10:])\n",
    "#Slicing with start and stop\n",
    "print('start from index 3 and stop in index 9', b[3:10:])\n",
    "#Slicing in reverse\n",
    "print('Reversed slicing from index 14 until index 6:',b[14:5:-1])"
   ]
  },
  {
   "cell_type": "markdown",
   "metadata": {},
   "source": [
    "## Dictionaries\n",
    "\n",
    "__Dictionaries__ are a _built-in data structure_ in Python that allow you to store and retrieve data using __key-value pairs__.\n",
    "\n",
    "A _dictionary_ (`dict`) is created using _curly braces_ {} and populated with key-value pairs.\n",
    "The __keys__ could be __strings__, numbers or tuples, and the __values__ can be of _any data type_.\n",
    "The __dictionary__ is then accessed using the _keys_ to __retrieve__ the corresponding _values_."
   ]
  },
  {
   "cell_type": "code",
   "execution_count": 33,
   "metadata": {},
   "outputs": [
    {
     "name": "stdout",
     "output_type": "stream",
     "text": [
      "{'name': 'Nico', 'code': 20211180026, 'average': 4.2}\n",
      "Added a new key {'name': 'Nico', 'code': 20211180026, 'average': 4.2, 'email': 'nguevarah@udistrital.edu.co'}\n",
      "Rewritten a value on the dictionary {'name': 'Nico', 'code': 20211180026, 'average': 4.4, 'email': 'nguevarah@udistrital.edu.co'}\n",
      "Email: nguevarah@udistrital.edu.co\n",
      "Removed average from student {'name': 'Nico', 'code': 20211180026, 'email': 'nguevarah@udistrital.edu.co'}\n"
     ]
    }
   ],
   "source": [
    "# a simple dictionary\n",
    "dictionary = {\n",
    "    'a':1,\n",
    "    'b':2,\n",
    "    'c':3\n",
    "}\n",
    "student = {\n",
    "    'name':'Nico',\n",
    "    'code':20211180026,\n",
    "    'average':4.2\n",
    "}\n",
    "print(student)\n",
    "# adding a new key\n",
    "student['email'] = 'nguevarah@udistrital.edu.co'\n",
    "print('Added a new key', student)\n",
    "student['average'] = 4.4\n",
    "print('Rewritten a value on the dictionary', student)\n",
    "\n",
    "print('Email:', student['email'])\n",
    "# removing a key\n",
    "del student['average']\n",
    "print('Removed average from student', student)"
   ]
  },
  {
   "cell_type": "code",
   "execution_count": 37,
   "metadata": {},
   "outputs": [
    {
     "name": "stdout",
     "output_type": "stream",
     "text": [
      "{1: {'name': 'Pepito', 'average': 4.9}, 2: {'name': 'Juana', 'average': 2.975}}\n",
      "_______________\n",
      "{'name': 'Pepito', 'average': 4.9}\n",
      "{'name': 'Juana', 'average': 2.975}\n"
     ]
    }
   ],
   "source": [
    "# a dictionary of dictionaries\n",
    "dict_b = {\n",
    "    1:{\n",
    "        'name':'Pepito',\n",
    "        'average':4.9\n",
    "    },\n",
    "    2:{\n",
    "        'name':'Juana',\n",
    "        'average':2.975\n",
    "    }\n",
    "}\n",
    "print(dict_b)\n",
    "print('_'*15)\n",
    "dict_c = [\n",
    "    {\n",
    "        'name':'Pepito',\n",
    "        'average':4.9\n",
    "    },\n",
    "    {\n",
    "        'name':'Juana',\n",
    "        'average':2.975\n",
    "    }\n",
    "]\n",
    "for element in dict_c:\n",
    "    print(element)\n",
    "# a list of dictionaries\n"
   ]
  },
  {
   "cell_type": "code",
   "execution_count": null,
   "metadata": {},
   "outputs": [],
   "source": [
    "# reading a JSON in python into a dictionary\n",
    "import json\n",
    "with open(\"json-files/Students.json\", \"r\", encoding=\"utf-8\") as f:\n",
    "    students = json.load(f)\n",
    "\n",
    "print(type(students))\n",
    "print(students)3\n",
    "for student in students[\"students\"]:\n",
    "    print(student)"
   ]
  },
  {
   "cell_type": "code",
   "execution_count": 54,
   "metadata": {},
   "outputs": [
    {
     "name": "stdout",
     "output_type": "stream",
     "text": [
      "The keys of the students dict_keys(['id', 'name', 'career', 'college'])\n",
      "First student from json file: dict_values([1, 'Alice Johnson', 'Computer Science', 'Tech University'])\n",
      "Getting the info in pairs (key,value): dict_items([('id', 1), ('name', 'Alice Johnson'), ('career', 'Computer Science'), ('college', 'Tech University')])\n",
      "------------------------------\n",
      "key id : 1\n",
      "key name : Alice Johnson\n",
      "key career : Computer Science\n",
      "key college : Tech University\n",
      "------------------------------\n",
      "id : 1\n",
      "name : Alice Johnson\n",
      "career : Computer Science\n",
      "college : Tech University\n"
     ]
    }
   ],
   "source": [
    "# getting keys\n",
    "print('The keys of the students',students['students'][0].keys())\n",
    "# getting values\n",
    "print('First student from json file:',students[\"students\"][0].values())\n",
    "#Getting pairs\n",
    "print('Getting the info in pairs (key,value):',students[\"students\"][0].items())\n",
    "# traversal with a loop\n",
    "student_1 = students['students'][0]\n",
    "print(\"-\"*30)\n",
    "for key in student_1.keys():\n",
    "    print('key',key,':',student_1[key])\n",
    "#traversal with a loop by items\n",
    "print('-'*30)\n",
    "for k,v in student_1.items():\n",
    "    print(k,':',v)"
   ]
  },
  {
   "cell_type": "markdown",
   "metadata": {},
   "source": [
    "## Sets\n",
    "\n",
    "__Sets__ are _unordered collections_ of _unique elements_. They are commonly used to perform mathematical __set operations__ such as _union_, _intersection_, and _difference_.\n",
    "\n",
    "To use __sets__ in _Python_, you can create a set by enclosing comma-separated elements within _curly braces_ {}. You can also use the `set()` function to create a __set__ _from_ an _iterable object_.\n",
    "\n",
    "Note that sets __do not allow__ _duplicate_ elements, so any duplicate elements will be _automatically removed_."
   ]
  },
  {
   "cell_type": "code",
   "execution_count": 57,
   "metadata": {},
   "outputs": [
    {
     "name": "stdout",
     "output_type": "stream",
     "text": [
      "Set 1 {'c', 'a', 'b'}\n",
      "List 1 [1, 2, 2, 3, 3, 3, 4, 4, 4, 5, 5, 5, 6, 6, 7, 7, 8, 9, 10, 11, 11, 11, 11, 12, 13, 13, 13, 15]\n",
      "Set 2 {1, 2, 3, 4, 5, 6, 7, 8, 9, 10, 11, 12, 13, 15}\n"
     ]
    }
   ],
   "source": [
    "# creating a set\n",
    "set_1= {'a','b','c'}\n",
    "print('Set 1',set_1)\n",
    "# creating a set from a list\n",
    "list_1 = [1,2,2,3,3,3,4,4,4,5,5,5,6,6,7,7,8,9,10,11,11,11,11,12,13,13,13,15]\n",
    "set_2 = set(list_1)\n",
    "print('List 1', list_1)\n",
    "print('Set 2', set_2)"
   ]
  },
  {
   "cell_type": "code",
   "execution_count": 63,
   "metadata": {},
   "outputs": [
    {
     "name": "stdout",
     "output_type": "stream",
     "text": [
      "{'c', 'a', 'd', 'b'}\n",
      "{'c', 'd', 'b'}\n"
     ]
    }
   ],
   "source": [
    "set_1.add('a')\n",
    "# adding an element \n",
    "set_1.add('d')\n",
    "print(set_1)\n",
    "# removing an element\n",
    "set_1.remove('a')\n",
    "print(set_1)"
   ]
  },
  {
   "cell_type": "code",
   "execution_count": 66,
   "metadata": {},
   "outputs": [
    {
     "name": "stdout",
     "output_type": "stream",
     "text": [
      "First Union: {1, 2, 3, 4, 5, 6, 7}\n",
      "Second Union: {1, 2, 3, 4, 5, 6, 7}\n",
      "First Intersection: {4}\n",
      "Second Intersection: {4}\n",
      "First Difference {1, 2, 3}\n",
      "Second Difference {1, 2, 3}\n",
      "First Symmetric {1, 2, 3, 5, 6, 7}\n",
      "Second Symmetric {1, 2, 3, 5, 6, 7}\n"
     ]
    }
   ],
   "source": [
    "a={1,2,3,4}\n",
    "b={4,5,6,7}\n",
    "# union\n",
    "union_1 = a.union(b)\n",
    "union_2 = a|b\n",
    "print('First Union:',union_1)\n",
    "print('Second Union:',union_2)\n",
    "# intersection\n",
    "insertection_1 = a.intersection(b)\n",
    "intersection_2 = a & b\n",
    "print('First Intersection:',insertection_1)\n",
    "print('Second Intersection:',intersection_2)\n",
    "# difference\n",
    "diff_1 = a.difference(b)\n",
    "diff_2 = a - b\n",
    "print('First Difference', diff_1)\n",
    "print('Second Difference', diff_2)\n",
    "# symmetric difference\n",
    "symmetric_1 = a.symmetric_difference(b)\n",
    "symmetric_2 = a ^ b\n",
    "print('First Symmetric', symmetric_1)\n",
    "print('Second Symmetric', symmetric_2)"
   ]
  },
  {
   "cell_type": "markdown",
   "metadata": {},
   "source": [
    "## Tuples\n",
    "\n",
    "__Tuples__ are _immutable sequences_, and similar to _lists_, that can _store multiple items_.\n",
    "\n",
    "They are defined using _parentheses_ and can contain elements of _different data types_.\n",
    "\n",
    "Tuples are commonly used to __group related data__ together and can be accessed using _indexing_.\n",
    "\n",
    "Unlike _lists_, tuples __cannot__ be _modified_ once created, making them useful for storing data that _should not be changed_."
   ]
  },
  {
   "cell_type": "code",
   "execution_count": 76,
   "metadata": {},
   "outputs": [
    {
     "name": "stdout",
     "output_type": "stream",
     "text": [
      "Full Tuple (1, 2.3, False)\n",
      "Element 2: False\n",
      "(1, 2.3, False, 'hola', 'chao')\n",
      "Course Error 'tuple' object doesn't support item deletion\n",
      "({'id': 1, 'name': 'Alice Johnson', 'career': 'Computer Science', 'college': 'Tech University'}, {'id': 2, 'name': 'Bob Smith', 'career': 'Mechanical Engineering', 'college': 'Engineering Institute'}, {'id': 3, 'name': 'Carol Williams', 'career': 'Electrical Engineering', 'college': 'Tech University'}, {'id': 4, 'name': 'David Jones', 'career': 'Biology', 'college': 'Science College'}, {'id': 5, 'name': 'Eva Brown', 'career': 'Physics', 'college': 'Tech University'}, {'id': 6, 'name': 'Frank Davis', 'career': 'Chemistry', 'college': 'Science College'}, {'id': 7, 'name': 'Grace Wilson', 'career': 'Mathematics', 'college': 'Tech University'}, {'id': 8, 'name': 'Henry Miller', 'career': 'Computer Engineering', 'college': 'Engineering Institute'}, {'id': 9, 'name': 'Isabel Taylor', 'career': 'Environmental Science', 'college': 'Science College'}, {'id': 10, 'name': 'Jack Anderson', 'career': 'Software Engineering', 'college': 'Tech University'}, {'id': 11, 'name': 'Kylie Thomas', 'career': 'Information Technology', 'college': 'Tech University'}, {'id': 12, 'name': 'Liam Jackson', 'career': 'Civil Engineering', 'college': 'Engineering Institute'}, {'id': 13, 'name': 'Mia White', 'career': 'Architecture', 'college': 'Architecture Academy'}, {'id': 14, 'name': 'Noah Harris', 'career': 'Graphic Design', 'college': 'Design Institute'}, {'id': 15, 'name': 'Olivia Martin', 'career': 'Art History', 'college': 'Liberal Arts College'}, {'id': 16, 'name': 'Peyton Garcia', 'career': 'Political Science', 'college': 'Liberal Arts College'}, {'id': 17, 'name': 'Quinn Robinson', 'career': 'Economics', 'college': 'Business School'}, {'id': 18, 'name': 'Ryan Clark', 'career': 'Marketing', 'college': 'Business School'}, {'id': 19, 'name': 'Sophia Lewis', 'career': 'Accounting', 'college': 'Business School'}, {'id': 20, 'name': 'Tyler Walker', 'career': 'Entrepreneurship', 'college': 'Business School'}, {'id': 21, 'name': 'Uma King', 'career': 'Psychology', 'college': 'Liberal Arts College'}, {'id': 22, 'name': 'Victor Lee', 'career': 'Sociology', 'college': 'Liberal Arts College'}, {'id': 23, 'name': 'Wendy Hall', 'career': 'Nursing', 'college': 'Health Sciences Institute'}, {'id': 24, 'name': 'Xavier Young', 'career': 'Medicine', 'college': 'Health Sciences Institute'}, {'id': 25, 'name': 'Yara Scott', 'career': 'Dentistry', 'college': 'Health Sciences Institute'}, {'id': 26, 'name': 'Zane Adams', 'career': 'Pharmacy', 'college': 'Health Sciences Institute'}, {'id': 27, 'name': 'Amy Campbell', 'career': 'Veterinary', 'college': 'Health Sciences Institute'}, {'id': 28, 'name': 'Brian Mitchell', 'career': 'Biomedical Engineering', 'college': 'Engineering Institute'}, {'id': 29, 'name': 'Charlotte Perez', 'career': 'Aerospace Engineering', 'college': 'Engineering Institute'}, {'id': 30, 'name': 'Derek Johnson', 'career': 'Philosophy', 'college': 'Liberal Arts College'}, {'id': 31, 'name': 'Elena Roberts', 'career': 'History', 'college': 'Liberal Arts College'}, {'id': 32, 'name': 'Felix Turner', 'career': 'Linguistics', 'college': 'Liberal Arts College'}, {'id': 33, 'name': 'Gina Phillips', 'career': 'Literature', 'college': 'Liberal Arts College'}, {'id': 34, 'name': 'Hugo Martinez', 'career': 'Music', 'college': 'Liberal Arts College'}, {'id': 35, 'name': 'Irene Murphy', 'career': 'Theatre', 'college': 'Liberal Arts College'}, {'id': 36, 'name': 'Jake Nelson', 'career': 'Film Studies', 'college': 'Liberal Arts College'}, {'id': 37, 'name': 'Kara Carter', 'career': 'Journalism', 'college': 'Liberal Arts College'}, {'id': 38, 'name': 'Leo Howard', 'career': 'Education', 'college': 'Education College'}, {'id': 39, 'name': 'Megan Reed', 'career': 'Social Work', 'college': 'Liberal Arts College'}, {'id': 40, 'name': 'Nathan Bailey', 'career': 'Anthropology', 'college': 'Liberal Arts College'}, {'id': 41, 'name': 'Oliver Flores', 'career': 'International Relations', 'college': 'Liberal Arts College'}, {'id': 42, 'name': 'Paige Hernandez', 'career': 'Public Health', 'college': 'Health Sciences Institute'}, {'id': 43, 'name': 'Quincy Morris', 'career': 'Nutrition Science', 'college': 'Health Sciences Institute'}, {'id': 44, 'name': 'Riley Green', 'career': 'Kinesiology', 'college': 'Health Sciences Institute'}, {'id': 45, 'name': 'Samantha Gonzalez', 'career': 'Forensic Science', 'college': 'Science College'}, {'id': 46, 'name': 'Travis Ward', 'career': 'Criminal Justice', 'college': 'Liberal Arts College'}, {'id': 47, 'name': 'Ulysses Simmons', 'career': 'Environmental Engineering', 'college': 'Engineering Institute'}, {'id': 48, 'name': 'Vivian Cook', 'career': 'Agricultural Sciences', 'college': 'Science College'}, {'id': 49, 'name': 'Winston Rivera', 'career': 'Animal Science', 'college': 'Science College'}, {'id': 50, 'name': 'Xena Diaz', 'career': 'Marine Biology', 'college': 'Science College'})\n"
     ]
    }
   ],
   "source": [
    "# tuple of different data types\n",
    "tuple_1 = (1,2.3,False)\n",
    "print('Full Tuple',tuple_1)\n",
    "# accessing by index\n",
    "print('Element 2:', tuple_1[2])\n",
    "# try-except to add an element\n",
    "try:\n",
    "    print(tuple_1.__add__(('hola','chao')))\n",
    "except Exception as e:\n",
    "    print(\"Course error.\",e)\n",
    "# try-except to remove an element\n",
    "try:\n",
    "    del tuple_1[2]\n",
    "except Exception as e:\n",
    "    print('Course Error', e)\n",
    "\n",
    "tuple_students = tuple(students['students'])\n",
    "print(tuple_students)"
   ]
  },
  {
   "cell_type": "code",
   "execution_count": 78,
   "metadata": {},
   "outputs": [
    {
     "name": "stdout",
     "output_type": "stream",
     "text": [
      "(1, 3, 4, 5, 'a', 'b')\n",
      "1\n",
      "3\n",
      "4\n",
      "5\n",
      "a\n",
      "b\n"
     ]
    }
   ],
   "source": [
    "# create a tuple from a list\n",
    "list_6 = [1,3,4,5,'a','b']\n",
    "tuple_2 = tuple(list_6)\n",
    "print(tuple_2)\n",
    "# traversal with a loop and with a conditional\n",
    "for element in tuple_2:\n",
    "    print(element)"
   ]
  },
  {
   "cell_type": "markdown",
   "metadata": {},
   "source": [
    "## List Comprehensions\n",
    "\n",
    "__List comprehensions__ provide a concise way to _create lists_ based on existing lists or other _iterable objects_. It allows you to transform and filter elements from the original iterable in a _single line of code_.\n",
    "\n",
    "The general syntax of a list comprehension is:\n",
    "`[expression for item in iterable if condition]`\n",
    "\n",
    "- `expression` is the value or transformation applied to each item in the iterable.\n",
    "- `item` is the variable that represents each element in the iterable.\n",
    "- `iterable` is the original list or other iterable object.\n",
    "- `condition` (optional) is a filter that determines whether an item should be included in the new list.\n",
    "\n",
    "__List comprehensions__ are often used as a more readable and concise alternative to traditional for loops when creating _new lists_. They can be used to perform __operations__ such as _filtering_, _mapping_, and _transforming elements_.\n",
    "\n",
    "_Python_ that can help _simplify code_ and make it more expressive."
   ]
  },
  {
   "cell_type": "code",
   "execution_count": 84,
   "metadata": {},
   "outputs": [
    {
     "name": "stdout",
     "output_type": "stream",
     "text": [
      "Example 1: [1, 4, 9, 16, 25, 36, 49, 64, 81, 100]\n",
      "Example 2: [5, 6, 7, 8, 9, 10, 11, 12, 13, 14]\n",
      "Example 3 [6, 8, 10, 12, 14]\n",
      "Example 4 ['Alice', 'Madelyne']\n"
     ]
    }
   ],
   "source": [
    "# power of 2 since range\n",
    "list_7 = [i**2 for i in range(1,11)]\n",
    "print('Example 1:', list_7)\n",
    "\n",
    "# increase 1 to elements of a list\n",
    "list_temp = list(range(4,14))\n",
    "list_8 = [i+1 for i in list_temp]\n",
    "print('Example 2:', list_8)\n",
    "\n",
    "# filtering even numbers of a list\n",
    "list_9 = [i for i in list_8 if i%2 ==0]\n",
    "print('Example 3', list_9)\n",
    "\n",
    "# filtering names with a 'e'\n",
    "names = ['Alice','Bob','Nico','Dakota','Madelyne']\n",
    "list_10 = [item for item in names if 'e' in item]\n",
    "print('Example 4', list_10)"
   ]
  },
  {
   "cell_type": "markdown",
   "metadata": {},
   "source": [
    "## Functions\n",
    "\n",
    "A __function__ in _Python_ is a block of organized, _reusable code_ that is used to perform a _single_, related _action_. __Functions__ provide better _modularity_ for your application and a high degree of _code reusing_. They are defined using the `def` _keyword_, can accept parameters, and can return results.\n",
    "\n",
    "### Built-In Functions\n",
    "\n",
    "A __built-in function__ in _Python_ is a _function_ that is pre-defined and available for use _without_ the need for `import` or definition by the user. These functions are an _integral part_ of the _Python_ language and provide basic functionality, such as converting types, performing mathematical calculations, and interacting with the core parts of the language.\n",
    "\n",
    "### Variadic Functions\n",
    "\n",
    "A __variadic function__ in _Python_ is a _function_ that can accept an arbitrary number of arguments. This allows the function to be _flexible_ in the number of values it processes. __Variadic functions__ are defined using the `*args` syntax for _positional_ arguments and `**kwargs` for _keyword_ arguments, enabling them to handle a varying amount of input data gracefully."
   ]
  },
  {
   "cell_type": "code",
   "execution_count": 85,
   "metadata": {},
   "outputs": [
    {
     "name": "stdout",
     "output_type": "stream",
     "text": [
      "Hello Nicolas\n",
      "Hello Maria\n"
     ]
    }
   ],
   "source": [
    "# function with no return\n",
    "def say_hello(name):\n",
    "    print('Hello', name)\n",
    "\n",
    "say_hello('Nicolas')\n",
    "say_hello('Maria')"
   ]
  },
  {
   "cell_type": "code",
   "execution_count": 90,
   "metadata": {},
   "outputs": [
    {
     "name": "stdout",
     "output_type": "stream",
     "text": [
      "6.84305\n"
     ]
    }
   ],
   "source": [
    "# function with parameters and typehint\n",
    "def sum(n1:int,n2:int)->int:\n",
    "    return n1+n2\n",
    "#it is a suggestion, it is not mandatory\n",
    "print(sum(2.3,4.54305))"
   ]
  },
  {
   "cell_type": "code",
   "execution_count": 95,
   "metadata": {},
   "outputs": [
    {
     "name": "stdout",
     "output_type": "stream",
     "text": [
      "(4, 7)\n",
      "(7, 43)\n"
     ]
    }
   ],
   "source": [
    "# function returning a tuple\n",
    "def min_max(x1:int, x2:int)->tuple:\n",
    "    if x1 <= x2:\n",
    "        return x1,x2\n",
    "    else:\n",
    "        return x2,x1\n",
    "print(min_max(4,7))\n",
    "print(min_max(43,7))"
   ]
  },
  {
   "cell_type": "code",
   "execution_count": 96,
   "metadata": {},
   "outputs": [],
   "source": [
    "# function with a docstring\n",
    "def min_max(x1:int, x2:int)->tuple:\n",
    "    \"\"\"\n",
    "    This function takes two values and defines which one is the minimun and which one is the maximum.\n",
    "\n",
    "    Args:\n",
    "        x1 (int): First number\n",
    "        x2 (int): Second number\n",
    "    Return:\n",
    "        A tuple with the numbers minimum and maximum respectively\n",
    "    \"\"\"\n",
    "    if x1 <= x2:\n",
    "        return x1,x2\n",
    "    else:\n",
    "        return x2,x1\n",
    "min_max(1,2)"
   ]
  },
  {
   "cell_type": "code",
   "execution_count": 102,
   "metadata": {},
   "outputs": [
    {
     "name": "stdout",
     "output_type": "stream",
     "text": [
      "41\n",
      "3\n",
      "45.7\n",
      "12\n"
     ]
    }
   ],
   "source": [
    "# function with variable parameters in a tuple\n",
    "def sum_values(*args):\n",
    "    sum_total = 0\n",
    "    for parameter in args:\n",
    "        sum_total += parameter\n",
    "    return sum_total\n",
    "print(sum_values(1,2,3,4,5,6,6,7,7))\n",
    "print(sum_values(1,2))\n",
    "print(sum_values(1.2,23.3,21.2))\n",
    "print(sum_values(True,True,True,True,True,True,True,True,True,True,True,True))"
   ]
  },
  {
   "cell_type": "code",
   "execution_count": 106,
   "metadata": {},
   "outputs": [
    {
     "name": "stdout",
     "output_type": "stream",
     "text": [
      "name : pepita\n",
      "age : 52\n",
      "--------------------------------------------------\n",
      "name : pepito\n",
      "email : nguevarah@udistrital.edu.co\n"
     ]
    }
   ],
   "source": [
    "# function with variable parameters in a dictionary\n",
    "def print_student(**kwargs):\n",
    "    for k,v in kwargs.items():\n",
    "        print(k,':',v)\n",
    "\n",
    "print_student(name='pepita',age=52)\n",
    "print('-'*50)\n",
    "print_student(name='pepito',email='nguevarah@udistrital.edu.co')"
   ]
  },
  {
   "cell_type": "code",
   "execution_count": null,
   "metadata": {},
   "outputs": [],
   "source": [
    "# recursive function\n",
    "def fibonacci(i:int):\n",
    "    \"\"\"\n",
    "    This function calculates the i-th term of Fibonacci series\n",
    "\n",
    "    Args:\n",
    "        i (int): i-th term of the serie\n",
    "    \n",
    "    Return:\n",
    "        The i-th term of the serie\n",
    "    \"\"\"\n",
    "    if i == 0:\n",
    "        return 0\n",
    "    elif i == 2:\n",
    "        return 1\n",
    "    else:\n",
    "        return fibonacci(i-1)+fibonacci(i-2)"
   ]
  },
  {
   "cell_type": "markdown",
   "metadata": {},
   "source": [
    "## Iterators\n",
    "\n",
    "__Iterators__ are objects that allow iteration over a _collection of elements_. They provide a way to access the elements of a collection _one by one_, without the need to know the underlying structure of the collection.\n",
    "\n",
    "In _Python_, __iterators__ are implemented using the `iter()` and `next()` methods. When there are no more elements to return, the `next__()` method raises the `StopIteration` _exception_.\n",
    "\n",
    "__Iterators__ are commonly used in _for loops_ to iterate over elements in a sequence, such as _lists_, _tuples_, or _strings_.\n",
    "\n",
    "### Map Function\n",
    "\n",
    "The `map` _function_ in _Python_ applies a given function to each item of an iterable (like a list, tuple, etc.) and returns a __map object__ (which is an _iterator_) of the results. This is often used to perform _some operation_ on a collection of items and _generate a new collection_ containing the results.\n",
    "\n",
    "### Filter Function \n",
    "\n",
    "The `filter` _function_ in _Python_ takes a function and an iterable as arguments and constructs an iterator from those elements of the iterable for which the function _returns_ __true__. Essentially, it filters out the elements in a collection, only _keeping those that satisfy a specific condition_."
   ]
  },
  {
   "cell_type": "code",
   "execution_count": null,
   "metadata": {},
   "outputs": [],
   "source": [
    "# filter a list a dictionaries with just UD studients\n"
   ]
  },
  {
   "cell_type": "code",
   "execution_count": null,
   "metadata": {},
   "outputs": [],
   "source": [
    "# change a list of numbers in strings formats and apply power of 4\n"
   ]
  },
  {
   "cell_type": "markdown",
   "metadata": {},
   "source": [
    "## Lambda Functions\n",
    "\n",
    "A __lambda function__ in _Python_ is a small _anonymous function_ that can take any number of arguments but can only have _one expression_. It is defined using the `lambda` keyword, followed by a comma-separated list of parameters, a colon, and the expression to be evaluated. __Lambda functions__ are commonly used when a small function is needed for a _short period of time_ and it is not necessary to define a named function. They are often used in combination with higher-order functions like `map()`, `filter()`, and `reduce()`.\n",
    "\n"
   ]
  },
  {
   "cell_type": "code",
   "execution_count": null,
   "metadata": {},
   "outputs": [],
   "source": [
    "# lambda function in a variable\n",
    "\n",
    "\n",
    "# lambdas function of two parameters in a variable\n",
    "\n",
    "\n",
    "# sort a list of tuples by the second item\n",
    "\n",
    "\n",
    "# filter a list to include multiple of 3\n",
    "\n",
    "\n",
    "# create a new list with the cube of each number\n",
    "\n",
    "\n",
    "# sort a list of strings based on length\n"
   ]
  },
  {
   "cell_type": "markdown",
   "metadata": {},
   "source": [
    "## Classes\n",
    "\n",
    " A `class` is a blueprint for creating objects in Python. It defines a set of _attributes_ and _methods_ that the objects of the class will have. "
   ]
  },
  {
   "cell_type": "code",
   "execution_count": null,
   "metadata": {},
   "outputs": [],
   "source": [
    "# create an abstract class\n"
   ]
  },
  {
   "cell_type": "code",
   "execution_count": null,
   "metadata": {},
   "outputs": [],
   "source": [
    "# create a concrete class\n"
   ]
  },
  {
   "cell_type": "code",
   "execution_count": null,
   "metadata": {},
   "outputs": [],
   "source": [
    "# instanciate a concrete object\n"
   ]
  }
 ],
 "metadata": {
  "kernelspec": {
   "display_name": "entorno",
   "language": "python",
   "name": "entorno"
  },
  "language_info": {
   "codemirror_mode": {
    "name": "ipython",
    "version": 3
   },
   "file_extension": ".py",
   "mimetype": "text/x-python",
   "name": "python",
   "nbconvert_exporter": "python",
   "pygments_lexer": "ipython3",
   "version": "3.11.9"
  }
 },
 "nbformat": 4,
 "nbformat_minor": 2
}
